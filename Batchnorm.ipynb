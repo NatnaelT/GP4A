{
 "cells": [
  {
   "cell_type": "markdown",
   "metadata": {},
   "source": [
    "In this notebook, we will show how to compute the GP kernel of a mutilayer perceptron with batchnorm+ReLU."
   ]
  },
  {
   "cell_type": "markdown",
   "metadata": {},
   "source": [
    "# Setup"
   ]
  },
  {
   "cell_type": "markdown",
   "metadata": {},
   "source": [
    "Software prereqs:\n",
    "\n",
    "- `quadpy`\n",
    "\n",
    "`quadpy` is a package for fast, vectorized integration, which will be essential for speeding up the computation of the V-transform of batch normalization."
   ]
  },
  {
   "cell_type": "code",
   "execution_count": 1,
   "metadata": {
    "ExecuteTime": {
     "end_time": "2019-10-31T13:52:36.973908Z",
     "start_time": "2019-10-31T13:52:34.272895Z"
    }
   },
   "outputs": [],
   "source": [
    "import scipy as sp\n",
    "from scipy.optimize import root_scalar\n",
    "import numpy as np\n",
    "import quadpy as qp\n",
    "import matplotlib.pyplot as plt\n",
    "import seaborn as sns\n",
    "sns.set()"
   ]
  },
  {
   "cell_type": "code",
   "execution_count": 2,
   "metadata": {
    "ExecuteTime": {
     "end_time": "2019-10-31T13:52:37.058895Z",
     "start_time": "2019-10-31T13:52:36.978896Z"
    }
   },
   "outputs": [],
   "source": [
    "from utils import J1, VReLU"
   ]
  },
  {
   "cell_type": "markdown",
   "metadata": {},
   "source": [
    "Suppose one has a batch of $B$ samples $x_1, \\ldots, x_B \\in \\mathbb{R}^n$, consider their kernel\n",
    "$$\\Sigma = (x_i^\\top x_j / d)_{ij} \\in \\mathbb{R}^{B \\times B}.$$"
   ]
  },
  {
   "cell_type": "markdown",
   "metadata": {},
   "source": [
    "\n",
    "If $f(x) = \\mathrm{ReLU}(W x)$ represents a dense matrix multiplication followed by ReLU, then the matrix $(f(x_i)^\\top f(x_j) / n')_{ij}$ converges almost surely to a deterministic positive semidefinite matrix $V_{\\mathrm{ReLU}}(\\Sigma)$ if $W \\in \\mathbb{R}^{n' \\times n}$ is sampled as $W_{ij} \\sim \\mathcal{N}(0, 1/n)$ and as $n' \\to \\infty$.\n",
    "By [Cho & Saul 2009](http://papers.nips.cc/paper/3628-kernel-methods-for-deep-learning), \n",
    "$$V_\\mathrm{ReLU}(\\Sigma) = D^{1/2} J_1(D^{-1/2} \\Sigma D^{-1/2}) D^{1/2}$$\n",
    "where $D = \\mathrm{Diag}(\\Sigma)$ and\n",
    "$$\\begin{align*}\n",
    "    J_1(c)\n",
    "        &=\n",
    "            \\frac 1 \\pi (\\sqrt{1 - c^2} + (\\pi - \\arccos(c))c), \\forall c \\in [-1, \n",
    "            1]\n",
    "\\end{align*}$$\n",
    "\n",
    "The function `VReLU` applies $V_\\mathrm{ReLU}$ to a sequence of matrices represented in the form of a tensor whose last 2 dimensions represent the matrices."
   ]
  },
  {
   "cell_type": "markdown",
   "metadata": {},
   "source": [
    "# Mean Field Theory of Batchnorm: Single Batch"
   ]
  },
  {
   "cell_type": "markdown",
   "metadata": {},
   "source": [
    "Now suppose $f(x_1, \\ldots, x_B) = \\mathrm{ReLU}(\\mathcal{B}(W x_1, \\ldots, W x_B)) =: (y_1, \\ldots, y_B)$ represents a dense matrix multiplication followed by batchnorm and ReLU.\n",
    "Then the matrix $(y_i^\\top y_j / n')_{ij}$ converges almost surely to a deterministic positive semidefinite matrix\n",
    "$$V_{\\mathcal{B}_\\mathrm{ReLU}}(\\Sigma)$$\n",
    "if $W \\in \\mathbb{R}^{n' \\times n}$ is sampled as $W_{ij} \\sim \\mathcal{N}(0, 1/n)$ and as $n' \\to \\infty$, just like the above.\n",
    "According to Theorem 3.2 of [Yang et al. 2019](https://arxiv.org/pdf/1902.08129.pdf), by the Laplace method,\n",
    "$$\\begin{equation}\n",
    "V_{\\mathcal{B}_\\mathrm{ReLU}}(\\Sigma) = B \\int_0^\\infty\n",
    "    \\frac{V_\\mathrm{ReLU}(\\Sigma^G (I + 2s\\Sigma^G)^{-1})}\n",
    "    {\\sqrt{\\det(I + 2 s \\Sigma^G)}} ds\n",
    "\\end{equation}$$\n",
    "where\n",
    "\n",
    "$$\\begin{align*}\n",
    "    \\Sigma^G &= G \\Sigma G\\\\\n",
    "    G &= I_B - \\frac 1 B \\mathbf 1 \\mathbf 1^T\n",
    "\\end{align*}$$"
   ]
  },
  {
   "cell_type": "code",
   "execution_count": 3,
   "metadata": {
    "ExecuteTime": {
     "end_time": "2019-10-31T13:52:37.069897Z",
     "start_time": "2019-10-31T13:52:37.061898Z"
    }
   },
   "outputs": [],
   "source": [
    "def Gmatrix(B):\n",
    "    return np.eye(B) - np.ones([B, B]) / B"
   ]
  },
  {
   "cell_type": "markdown",
   "metadata": {},
   "source": [
    "We will compute the integrand of $V_{\\mathcal{B}_\\mathrm{ReLU}}$ efficiently as follows:\n",
    "\n",
    "- Obtain eigenvalues of $\\Sigma^G$.\n",
    "$$\\Sigma^G = A \\Lambda A^\\top$$\n",
    "where $A$ is orthogonal and $\\Lambda$ is diagonal.\n",
    "Note that the smallest eigenvalue of $\\Lambda$ is 0, since $\\Sigma^G$ has nullity with dimension at least 1.\n",
    "WLOG, assume the diagonal values of $\\Lambda$ are nondecreasing, so that $\\Lambda_{11} = 0$.\n",
    "- Then for each $s$, compute\n",
    "    - $\\Sigma^G(I + 2s \\Sigma^G)^{-1} = A \\Lambda(I + 2s \\Lambda)^{-1} A^\\top$.\n",
    "    - Similarly, $\\det(I + 2s\\Sigma^G) = \\prod_{i=1}^B (1 + 2 s \\Lambda_{ii})\n",
    "        = \\prod_{i=2}^B (1 + 2 s \\Lambda_{ii})$\n",
    "    \n",
    "For each $s$, the most heavy computation will be the two matrix multiplications by $A$ and $A^\\top$."
   ]
  },
  {
   "cell_type": "code",
   "execution_count": 4,
   "metadata": {
    "ExecuteTime": {
     "end_time": "2019-10-31T13:52:37.091912Z",
     "start_time": "2019-10-31T13:52:37.076903Z"
    }
   },
   "outputs": [],
   "source": [
    "def VBNReLUIntegrand(Sigma):\n",
    "    '''Returns the integrand function of VBNRelU(Sigma)\n",
    "    '''\n",
    "    B = Sigma.shape[0]\n",
    "    G = Gmatrix(B)\n",
    "    eigvals, eigvecs = np.linalg.eigh(G @ Sigma @ G)\n",
    "    def f(s, multfactor=1, eps=1e-10):\n",
    "        # Ueigvals.shape = [..., B]\n",
    "        Ueigvals = (1 + 2 * s[..., None] * eigvals)\n",
    "        # inteigvals.shape = [..., B]\n",
    "        inteigvals = eigvals / Ueigvals\n",
    "        # divide by sqrt(det)\n",
    "        inteigvals /= np.sqrt(np.prod(Ueigvals, axis=-1, keepdims=True))\n",
    "        # the eigenspace corresponding to (1, ..., 1) is zeroed out\n",
    "        inteigvals[..., 0] = 0\n",
    "        inteigvals *= multfactor\n",
    "        return VReLU(np.einsum('ij,...j,jk->...ik', eigvecs, inteigvals, eigvecs.T), eps)\n",
    "    return f"
   ]
  },
  {
   "cell_type": "markdown",
   "metadata": {},
   "source": [
    "To compute $V_{\\mathcal{B}_\\mathrm{ReLU}}$ numerically, we first transform its integral via an exponential substitution\n",
    "$$\\begin{equation}\n",
    "V_{\\mathcal{B}_\\mathrm{ReLU}}(\\Sigma) = B \\int_{-\\infty}^\\infty\n",
    "    \\frac{V_\\mathrm{ReLU}(\\Sigma^G (I + 2e^r \\Sigma^G)^{-1})}\n",
    "    {\\sqrt{\\det(I + 2 e^r \\Sigma^G)}} e^r\\ dr.\n",
    "\\end{equation}$$"
   ]
  },
  {
   "cell_type": "code",
   "execution_count": 5,
   "metadata": {
    "ExecuteTime": {
     "end_time": "2019-10-31T13:52:37.110897Z",
     "start_time": "2019-10-31T13:52:37.095898Z"
    }
   },
   "outputs": [],
   "source": [
    "def VBNReLUIntegrandExp(Sigma):\n",
    "    '''Returns the integrand function of VBNRelU(Sigma), reparametrized exponentially\n",
    "    '''\n",
    "    B = Sigma.shape[0]\n",
    "    G = Gmatrix(B)\n",
    "    eigvals, eigvecs = np.linalg.eigh(G @ Sigma @ G)\n",
    "    # remove the 1st (smallest) eigenvalue, which is 0\n",
    "    logeigvals = np.log(eigvals[1:])\n",
    "    eigvecs = eigvecs[:, 1:]\n",
    "    def f(logs, logmultfactor=0, eps=1e-10):\n",
    "        # Ueigvals.shape = [..., B]\n",
    "        logUeigvals = np.logaddexp(0, np.log(2) + logs[..., None] + logeigvals)\n",
    "        # inteigvals.shape = [..., B]\n",
    "        loginteigvals = logeigvals - logUeigvals\n",
    "        # divide by sqrt(det)\n",
    "        loginteigvals -= 0.5 * np.sum(logUeigvals, axis=-1, keepdims=True)\n",
    "        loginteigvals += logmultfactor\n",
    "        inteigvals = np.exp(loginteigvals)\n",
    "        return VReLU(np.einsum('ij,...j,jk->...ik', eigvecs, inteigvals, eigvecs.T), eps)\n",
    "    return f"
   ]
  },
  {
   "cell_type": "markdown",
   "metadata": {},
   "source": [
    "Note that as $r \\to -\\infty$, the integrand drops like $e^{-|r|}$, whereas for $r \\to \\infty$, it drops like $e^{-r(B-2)/2}$.\n",
    "This suggests splitting the integral above and approximating each piece via Gaussian-Laguerre quadrature.\n",
    "We split at the \"argmax\" of the integrand, as given in the following\n",
    "$$\\begin{align*}\n",
    "&\\phantom{{}={}}\n",
    "    \\argmax_r \\frac{\\lambda_B e^r}{(1 + 2 e^r \\lambda_B)\\sqrt{\\prod_i (1 + 2 e^r \\lambda_i)}}\n",
    "    \\\\\n",
    "&=\n",
    "    \\argmax_r \\log \\frac{\\lambda_B e^r}{(1 + 2 e^r \\lambda_B)\\sqrt{\\prod_i (1 + 2 e^r \\lambda_i)}}\n",
    "    \\\\\n",
    "&=\n",
    "    \\argmax_r r - \\log(1 + 2 e^r \\lambda_B) - \\frac 1 2 \\sum_i \\log(1 + 2 e^r \\lambda_i)\n",
    "\\end{align*}$$\n",
    "where $\\lambda_i$ are the eigenvalues of $\\Sigma^G$ and $\\lambda_B$ is the largest eigenvalue of $\\Sigma^G$.\n",
    "This is a monotonic function, so we just need to find the root of its derivative, which is\n",
    "$$\\begin{align*}\n",
    "f(r)\n",
    "&=\n",
    "    1 - \\frac 1 2 \\frac{2\\lambda_B e^r}{1 + 2 e^r \\lambda_B} - \\frac 1 2 \\sum_{i=2}^B \\frac{2\\lambda_i e^r}{1 + 2 e^r \\lambda_i}\n",
    "    \\\\\n",
    "&=\n",
    "    -\\frac{B-1}{2} + \\frac{1}{1 + 2 e^r \\lambda_B} + \\frac 1 2 \\sum_{i=2}^B \\frac{1}{1 + 2 e^r \\lambda_i}\n",
    "    .\n",
    "\\end{align*}$$\n",
    "\n",
    "For the Newton method of root-finding, we also need another derivative, which is\n",
    "$$f'(r) = -\\frac 1 2 \\sum_{i=2}^B \\frac{2 e^r \\lambda_i}{(1 + 2 e^r \\lambda_i)^2} - \\frac{2 e^r \\lambda_B}{(1 + 2 e^r \\lambda_B)^2}.$$"
   ]
  },
  {
   "cell_type": "markdown",
   "metadata": {},
   "source": [
    "Note that when $\\Sigma = I$, $f$ is maximized at $-\\log(B-1)$."
   ]
  },
  {
   "cell_type": "code",
   "execution_count": 6,
   "metadata": {
    "ExecuteTime": {
     "end_time": "2019-10-31T13:52:37.135897Z",
     "start_time": "2019-10-31T13:52:37.114894Z"
    }
   },
   "outputs": [],
   "source": [
    "def sigmoid(x):\n",
    "    return (1 + np.tanh(x/2))/2\n",
    "def VBNReLUIntegrandExpArgmax(Sigma, method='brentq'):\n",
    "    '''find r that \"maximizes\" the exponentially parametrized integrand of VBNReLU(Sigma).\n",
    "    The numerical integral will be split around this argmax.'''\n",
    "    B = Sigma.shape[0]\n",
    "    G = Gmatrix(B)\n",
    "    eigvals = np.linalg.eigvalsh(G @ Sigma @ G)\n",
    "    eigvals = eigvals[1:]\n",
    "    logeigvals = np.log(eigvals)\n",
    "    def f(r):\n",
    "        return -(B-1)/2 + 0.5 * np.sum((1 + 2 * eigvals * np.exp(r))**-1) \\\n",
    "            + (1 + 2 * eigvals[-1] * np.exp(r))**-1\n",
    "    def fprime(r):\n",
    "        '''numerically stable version of f' '''\n",
    "        return -0.5 * np.sum(sigmoid(np.log(2) + logeigvals + r) * (1 + 2 * eigvals * np.exp(r))**-1) \\\n",
    "            - sigmoid(np.log(2) + logeigvals[-1] + r) * (1 + 2 * eigvals[-1] * np.exp(r))**-1\n",
    "    if method=='newton':\n",
    "        return root_scalar(f, x0=-np.log(B - 1),\n",
    "                           fprime=fprime,\n",
    "                           method='newton')\n",
    "    else:\n",
    "        return root_scalar(f, bracket=[-1000, 0], method='brentq')"
   ]
  },
  {
   "cell_type": "markdown",
   "metadata": {},
   "source": [
    "We will use `quadpy` package for fast, vectorized integration."
   ]
  },
  {
   "cell_type": "code",
   "execution_count": 7,
   "metadata": {
    "ExecuteTime": {
     "end_time": "2019-10-31T13:52:37.155903Z",
     "start_time": "2019-10-31T13:52:37.138897Z"
    }
   },
   "outputs": [],
   "source": [
    "def VBNReLU(Sigma, npos=10, nneg=10, alpha=1/8):\n",
    "    '''Computes BN+ReLU kernel for a single batch.\n",
    "    Inputs:\n",
    "        Sigma: input kernel (shape = batchsize x batchsize)\n",
    "        npos: number of points for integrating the big s side of the VBNReLU integral\n",
    "        nneg: number of points for integrating the small s side of the VBNReLU integral\n",
    "        alpha: reparametrize the integral by s = exp(alpha r)\n",
    "    Outputs:\n",
    "        VBNReLU(Sigma)\n",
    "    '''\n",
    "    schemepos = qp.e1r.gauss_laguerre(npos, alpha=0)\n",
    "    schemeneg = qp.e1r.gauss_laguerre(nneg, alpha=0)\n",
    "    intargmax = VBNReLUIntegrandExpArgmax(Sigma).root\n",
    "    dim = Sigma.shape[0]\n",
    "    f = VBNReLUIntegrandExp(Sigma)\n",
    "    integrandpos = lambda xs: np.rollaxis(\n",
    "        np.rollaxis(\n",
    "            alpha * f(intargmax + alpha * xs,\n",
    "                logmultfactor=(intargmax + (1 + alpha) * xs)[..., None]),\n",
    "            2, 0),\n",
    "        3, 1)\n",
    "    integrandneg = lambda xs: np.rollaxis(\n",
    "        np.exp(intargmax) * np.rollaxis(f(intargmax - xs),\n",
    "            2, 0),\n",
    "        3, 1)\n",
    "    return dim * (\n",
    "        schemepos.integrate(integrandpos) + schemeneg.integrate(integrandneg)).squeeze(-1)"
   ]
  },
  {
   "cell_type": "markdown",
   "metadata": {},
   "source": [
    "# Mean Field Theory of Batchnorm: Multi-Batch"
   ]
  },
  {
   "cell_type": "markdown",
   "metadata": {},
   "source": [
    "Now suppose one has a batch of $B_1$ samples\n",
    "$x_{11}, \\ldots, x_{1B_1} \\in \\mathbb{R}^n$\n",
    "and a batch of $B_2$ samples\n",
    "$x_{21}, \\ldots, x_{2B_2} \\in \\mathbb{R}^n$.\n",
    "Consider their kernel arranged in block matrix form\n",
    "$$\\tilde \\Sigma = \\begin{pmatrix} \\Sigma_1 & \\Xi\\\\ \\Xi^\\top & \\Sigma_2 \\end{pmatrix} \\in \\mathbb R^{(B_1+B_2) \\times (B_1+B_2)}$$"
   ]
  },
  {
   "cell_type": "markdown",
   "metadata": {},
   "source": [
    "Again suppose $(y_{11}, \\ldots, y_{1B_1}) = \\mathrm{ReLU}(\\mathcal{B}(W x_{11}, \\ldots, W x_{1B_1}))$ represents a dense matrix multiplication followed by batchnorm and ReLU, applied to the first batch.\n",
    "Likewise, let $(y_{21}, \\ldots, y_{2B_2}) = \\mathrm{ReLU}(\\mathcal{B}(W x_{21}, \\ldots, W x_{2B_2}))$ be the same applied to the second batch.\n",
    "Then the block matrix\n",
    "$$\\begin{pmatrix}\n",
    "(y_{1i}^\\top y_{1j}^\\top)_{ij}/n' & (y_{1i}^\\top y_{2j}^\\top)_{ij}/n'\\\\\n",
    "(y_{2i}^\\top y_{1j}^\\top)_{ij}/n' & (y_{2i}^\\top y_{2j}^\\top)_{ij}/n'\n",
    "\\end{pmatrix}$$\n",
    "converges almost surely to a deterministic limit \n",
    "$$V_{\\mathcal{B}_\\mathrm{ReLU}^{\\oplus2}}(\\tilde\\Sigma)$$\n",
    "if $W \\in \\mathbb{R}^{n' \\times n}$ is sampled as $W_{ij} \\sim \\mathcal{N}(0, 1/n)$ and as $n' \\to \\infty$, just like before."
   ]
  },
  {
   "cell_type": "markdown",
   "metadata": {},
   "source": [
    "**Calculating $V_{\\mathcal{B}_\\mathrm{ReLU}^{\\oplus2}}(\\tilde\\Sigma)$.**\n",
    "\n",
    "$V_{\\mathcal{B}_\\mathrm{ReLU}^{\\oplus2}}(\\tilde\\Sigma)$ has the same block structure as $\\tilde \\Sigma$, and its diagonal blocks are given by $V_{\\mathcal{B}_\\mathrm{ReLU}}(\\Sigma_1)$ and $V_{\\mathcal{B}_\\mathrm{ReLU}}(\\Sigma_2)$, which can be computed according to the last section.\n",
    "Its off-diagonal block can be expressed as\n",
    "$$[V_{\\mathcal{B}_\\mathrm{ReLU}}(\\tilde \\Sigma)]_{12} = \n",
    "\\sqrt{B_1 B_2} \\pi^{-1} \\int_0^\\infty d s \\int_0^\\infty d t\\ \n",
    "(st)^{-1/2} \\det(I_{B_1+B_2} + 2 \\Omega)^{-1/2}\n",
    "V_\\mathrm{ReLU}(\\Pi)_{12}$$\n",
    "by equation (56) of [Yang et al. 2019](https://arxiv.org/pdf/1902.08129.pdf),\n",
    "where\n",
    "$$\\begin{align*}\n",
    "    \\Omega &=\n",
    "        D^{1/2}\\begin{pmatrix} G_1 \\Sigma_1 G_1 & G_1 \\Xi G_2\\\\ G_2 \\Xi^\\top G_1 & G_2 \\Sigma_2 G_2 \\end{pmatrix} D^{1/2}\n",
    "            \\\\\n",
    "    \\Pi &=\n",
    "        D^{-1/2} \\Omega (I + 2 \\Omega)^{-1} D^{-1/2}\n",
    "            \\\\\n",
    "    D &=\n",
    "        s I_{B_1} \\oplus t I_{B_2}\n",
    "        = \\begin{pmatrix} s I_{B_1} & 0 \\\\ 0 & t I_{B_2} \\end{pmatrix}\n",
    "            \\\\\n",
    "    G_i &= I - B_i^{-1} \\mathbf{1}\\mathbf{1}^\\top\n",
    "\\end{align*}$$\n",
    "and $V_\\mathrm{ReLU}(\\Pi)_{12}$ is the block of $V_\\mathrm{ReLU}(\\Pi)$ on the first row, second column, of size $B_1 \\times B_2$."
   ]
  },
  {
   "cell_type": "markdown",
   "metadata": {},
   "source": [
    "We apply a similar diagonalization trick as in the single batch case to efficiently evaluate the integrand."
   ]
  },
  {
   "cell_type": "markdown",
   "metadata": {},
   "source": [
    "**We define some new matrices $A_1, \\Delta_1, A_2, \\Delta_2, \\dot \\Xi, \\dot \\Omega, A$ below.**\n",
    "Let $A_1 \\in \\mathbb R^{B_1 \\times (B_1-1)}$ contain an orthonormal basis of the the image of $G_1$ in its columns such that we have the diagonalization\n",
    "$$G_1 \\Sigma_1 G_1 = A_1 \\Delta_1 A_1^\\top$$\n",
    "where $\\Delta_1$ is a diagonal matrix.\n",
    "Likewise, let $A_2 \\in \\mathbb R^{B_2 \\times (B_2-1)}$ satisfy $A_2^\\top A_2 = I_{B_2-1}$ such that\n",
    "$$G_2 \\Sigma_2 G_2 = A_2 \\Delta_2 A_2^\\top$$\n",
    "where $\\Delta_2$ is a diagonal matrix.\n",
    "Let $\\dot \\Xi \\in \\mathbb R^{(B_1-1) \\times (B_2-1)}$ be the unique matrix such that\n",
    "$$G_1 \\Xi G_2 = A_1 \\dot \\Xi A_2^\\top.$$\n",
    "Define\n",
    "$$\\dot \\Omega = \\begin{pmatrix} \\Delta_1 & \\dot \\Xi\\\\ \\dot \\Xi^\\top & \\Delta_2 \\end{pmatrix}$$\n",
    "so that $\\Omega = \\sqrt D A \\dot \\Omega A^\\top \\sqrt D$ where $A = \\begin{pmatrix} A_1 & 0\\\\ 0 & A_2 \\end{pmatrix} \\in \\mathbb{R}^{(B_1+B_2) \\times (B_1+B_2-2)}$."
   ]
  },
  {
   "cell_type": "markdown",
   "metadata": {},
   "source": [
    "\n",
    "Then we can simplify $\\Pi$ as \n",
    "$$\\begin{align*}\n",
    "\\Pi\n",
    "    &=\n",
    "        D^{-1/2} D^{1/2} A \\dot \\Omega A^\\top D^{1/2} D^{-1/2} (D^{-1} + 2 A\\dot \\Omega A^\\top)^{-1} D^{-1/2} D^{-1/2}\n",
    "        \\\\\n",
    "    &=\n",
    "        A \\dot \\Omega A^\\top (D^{-1} + 2 A \\dot \\Omega A^\\top)^{-1} D^{-1}\n",
    "\\end{align*}$$"
   ]
  },
  {
   "cell_type": "markdown",
   "metadata": {},
   "source": [
    "**Calculating $\\Pi$.**\n",
    "\n",
    "Note that $(D^{-1} + 2 A \\dot \\Omega A^\\top)^{-1}$ has two eigenspaces given by the two eigenspaces projected away by $G_1$ and $G_2$, and it has resp. $s$ and $t$ for their eigenvalues.\n",
    "However, these eigenvalues are zeroed out by the multiplication of $A \\dot \\Omega A^\\top$, so, assuming $\\dot \\Omega$ is invertible, the above expression for $\\Pi$ is equivalent to\n",
    "$$\\begin{align*}\n",
    "    \\Pi\n",
    "        &=\n",
    "            G(D^{-1} A \\dot \\Omega^{-1} A^\\top + 2 I_{B_1+B_2})^{-1} D^{-1}G\n",
    "            \\\\\n",
    "        &=\n",
    "            G (A \\dot \\Omega^{-1} A^\\top + 2 D)^{-1} G\n",
    "\\end{align*}$$\n",
    "where $G = \\begin{pmatrix} G_1 & 0\\\\ 0 & G_2 \\end{pmatrix}$.\n",
    "This can be further simplified as\n",
    "$$\\Pi = A (\\dot \\Omega^{-1} + 2 \\dot D)^{-1} A^\\top$$\n",
    "where $\\dot D = \\begin{pmatrix} s I_{B_1-1} & 0\\\\ 0 & t I_{B_2-1} \\end{pmatrix}$."
   ]
  },
  {
   "cell_type": "markdown",
   "metadata": {},
   "source": [
    "**Calculating the determinant.**\n",
    "\n",
    "Similarly, the determinant above can be expressed as\n",
    "$$\\begin{align*}\n",
    "\\det(I_{B_1+B_2} + 2 \\Omega)\n",
    "    &=\n",
    "        s^{B_1-1} t^{B_2-1} \\det(\\dot D^{-1} + 2 \\dot \\Omega).\n",
    "\\end{align*}$$\n",
    "> *N.B.* We will not use this formula below, but using the block matrix formula for determinant, we can express the above as\n",
    "$$\\begin{align*}\n",
    "\\det(I_{B_1+B_2} + 2 \\Omega)\n",
    "    &=\n",
    "        s^{B_1-1} t^{B_2-1} \\det(s^{-1} I + 2 \\Delta_1) \\det(t^{-1} I + 2 \\Delta_2 - \\dot \\Xi^\\top (s^{-1} + 2 \\Delta_1)^{-1} \\dot \\Xi)\n",
    "\\end{align*}$$"
   ]
  },
  {
   "cell_type": "markdown",
   "metadata": {},
   "source": [
    "**Tie it all together.**\n",
    "\n",
    "Thus the integrand of $V_{\\mathcal{B}_\\mathrm{ReLU}^{\\oplus 2}}(\\tilde \\Sigma)$ can be calculated as\n",
    "$$s^{-B_1/2} t^{-B_2/2} \\det(\\dot D^{-1} + 2 \\dot \\Omega)^{-1/2} V_\\mathrm{ReLU}(A (\\dot \\Omega^{-1} + 2 \\dot D)^{-1} A^\\top)_{12}$$"
   ]
  },
  {
   "cell_type": "code",
   "execution_count": 8,
   "metadata": {
    "ExecuteTime": {
     "end_time": "2019-10-31T13:52:37.189899Z",
     "start_time": "2019-10-31T13:52:37.160903Z"
    }
   },
   "outputs": [],
   "source": [
    "def VBNReLUCrossBatchIntegrand(Xi, Sigma1, Sigma2):\n",
    "    '''Computes the off diagonal block of the BN+ReLU kernel over 2 batches\n",
    "    Input:\n",
    "        Xi: covariance between batch1 and batch2\n",
    "        Sigma1: autocovariance of batch1\n",
    "        Sigma2: autocovariance of batch2\n",
    "    Output:\n",
    "        f: integrand function in the integral for computing cross batch VBNReLU \n",
    "    '''\n",
    "    n1 = Sigma1.shape[0]\n",
    "    n2 = Sigma2.shape[0]\n",
    "    G1 = Gmatrix(n1)\n",
    "    G2 = Gmatrix(n2)\n",
    "    Delta1, A1 = np.linalg.eigh(G1 @ Sigma1 @ G1)\n",
    "    Delta2, A2 = np.linalg.eigh(G2 @ Sigma2 @ G2)\n",
    "    # kill first 0 eigenval\n",
    "    Delta1 = Delta1[1:]\n",
    "    Delta2 = Delta2[1:]\n",
    "    A1 = A1[:, 1:]\n",
    "    A2 = A2[:, 1:]\n",
    "    \n",
    "    Xidot = A1.T @ Xi @ A2\n",
    "    Omegadot = np.block([[np.diag(Delta1), Xidot], [Xidot.T, np.diag(Delta2)]])\n",
    "    Omegadotinv = np.linalg.inv(Omegadot)\n",
    "    \n",
    "    def f(s, t, multfactor=1):\n",
    "        # Ddot.shape = (..., n1+n2-2, n1+n2-2)\n",
    "        Ddot = s[..., None, None] * np.eye(n1-1+n2-1)\n",
    "        Ddot[..., np.arange(n1-1, n1+n2-2), np.arange(n1-1, n1+n2-2)] = t[..., None]\n",
    "        \n",
    "        ## Compute off-diagonal block of VReLU(Pi)\n",
    "        Pitilde = Omegadotinv + 2 * Ddot\n",
    "        Pitilde = np.linalg.inv(Pitilde)\n",
    "        Pi11diag = np.einsum('ij,...jk,ki->...i',\n",
    "                            A1,\n",
    "                            Pitilde[..., :n1-1, :n1-1],\n",
    "                            A1.T)\n",
    "        Pi22diag = np.einsum('ij,...jk,ki->...i',\n",
    "                            A2,\n",
    "                            Pitilde[..., n1-1:, n1-1:],\n",
    "                            A2.T)\n",
    "        Pi12 = np.einsum('ij,...jk,kl->...il',\n",
    "                        A1,\n",
    "                        Pitilde[..., :n1-1, n1-1:],\n",
    "                        A2.T)\n",
    "        C = J1(np.einsum('...i,...ij,...j->...ij',\n",
    "                        Pi11diag**-0.5,\n",
    "                        Pi12,\n",
    "                        Pi22diag**-0.5))\n",
    "        VReLUPi12 = 0.5 * np.einsum('...i,...ij,...j->...ij',\n",
    "                                Pi11diag**0.5,\n",
    "                                C,\n",
    "                                Pi22diag**0.5)\n",
    "        \n",
    "        \n",
    "        ## Compute determinant\n",
    "        ind = np.arange(n1+n2-2)\n",
    "        # Ddot <- matrix inverse of Ddot\n",
    "        Ddot[..., ind, ind] = Ddot[..., ind, ind]**-1\n",
    "        logdet = np.linalg.slogdet(Ddot + 2 * Omegadot)[1]\n",
    "        return np.exp(\n",
    "                    (np.log(multfactor)\n",
    "                      + (-n1/2) * np.log(s)\n",
    "                      + (-n2/2) * np.log(t)\n",
    "                      - 1/2 * logdet)[..., None, None] + np.log(VReLUPi12))\n",
    "    return f"
   ]
  },
  {
   "cell_type": "markdown",
   "metadata": {},
   "source": [
    "We reparametrize the integrand above via the exponential function, just like in the single batch case, and integrate via `quadpy`"
   ]
  },
  {
   "cell_type": "code",
   "execution_count": 9,
   "metadata": {
    "ExecuteTime": {
     "end_time": "2019-10-31T13:52:37.229898Z",
     "start_time": "2019-10-31T13:52:37.194899Z"
    }
   },
   "outputs": [],
   "source": [
    "def VBNReLUCrossBatch(Xi, Sigma1, Sigma2, npos=10, nneg=5,\n",
    "                      alphapos1=1/3, alphaneg1=1,\n",
    "                     alphapos2=1/3, alphaneg2=1):\n",
    "    '''Compute VBNReLU for two batches.\n",
    "    \n",
    "    Inputs:\n",
    "        Xi: covariance between batch1 and batch2\n",
    "        Sigma1: autocovariance of batch1\n",
    "        Sigma2: autocovariance of batch2\n",
    "        npos: number of points for integrating the big s side of the VBNReLU integral\n",
    "            (effective for both dimensions of integration)\n",
    "        nneg: number of points for integrating the small s side of the VBNReLU integral\n",
    "            (effective for both dimensions of integration)\n",
    "        alphapos1: reparametrize the large s integral by s = exp(alpha r) in the 1st dimension\n",
    "        alphaneg1: reparametrize the small s integral by s = exp(alpha r) in the 1st dimension\n",
    "        alphapos2: reparametrize the large s integral by s = exp(alpha r) in the 2nd dimension\n",
    "        alphaneg2: reparametrize the small s integral by s = exp(alpha r) in the 2nd dimension\n",
    "            By tuning the `alpha` parameters, the integrand is closer to being well-approximated by \n",
    "            low-degree Laguerre polynomials, which makes the quadrature more accurate in approximating the integral.\n",
    "    Outputs:\n",
    "        The (batch1, batch2) block of block matrix obtained by\n",
    "        applying VBNReLU^{\\oplus 2} to the kernel of batch1 and batch2\n",
    "    '''\n",
    "    # We will do the integration explicitly ourselves:\n",
    "    #     We obtain sample points and weights via `quadpy`'s Gauss Laguerre quadrature\n",
    "    #     and do the sum ourselves\n",
    "    schemepos = qp.e1r.gauss_laguerre(npos, alpha=0)\n",
    "    schemeneg = qp.e1r.gauss_laguerre(nneg, alpha=0)\n",
    "    dim1 = Sigma1.shape[0]\n",
    "    dim2 = Sigma2.shape[0]\n",
    "    intargmax = (-np.log(2*(dim1-1)), -np.log(2*(dim2-1)))\n",
    "    f = VBNReLUCrossBatchIntegrand(Xi, Sigma1, Sigma2)\n",
    "    # Get the points manually for each dimension\n",
    "    scheme1dpoints = np.concatenate([schemepos.points, -schemeneg.points])\n",
    "    # Get the weights manually for each dimension\n",
    "    scheme1dwts = np.concatenate([schemepos.weights, schemeneg.weights])\n",
    "    # Obtain the points for the whole 2d integration\n",
    "    scheme2dpoints = np.meshgrid(scheme1dpoints, scheme1dpoints)\n",
    "    # Obtain the weights for the whole 2d integration\n",
    "    scheme2dwts = scheme1dwts[:, None] * scheme1dwts[None, :]\n",
    "\n",
    "    def applyalpha(x, alphapos, alphaneg):\n",
    "        xx = np.copy(x)\n",
    "        xx[xx > 0] *= alphapos\n",
    "        xx[xx <= 0] *= alphaneg\n",
    "        return xx\n",
    "    def alphafactor(x, y):\n",
    "        a = np.zeros_like(x)\n",
    "        a[(x > 0) & (y > 0)] = alphapos1 * alphapos2\n",
    "        a[(x > 0) & (y <= 0)] = alphapos1 * alphaneg2\n",
    "        a[(x <= 0) & (y > 0)] = alphaneg1 * alphapos2\n",
    "        a[(x <= 0) & (y <= 0)] = alphaneg1 * alphaneg2\n",
    "        return a\n",
    "        \n",
    "    integrand = lambda inp: \\\n",
    "        f(np.exp(applyalpha(inp[0], alphapos1, alphaneg1) + intargmax[0]), \n",
    "          np.exp(applyalpha(inp[1], alphapos2, alphaneg2) + intargmax[1]),\n",
    "          multfactor=alphafactor(inp[0], inp[1])\n",
    "              * np.pi**-1\n",
    "              * np.exp(applyalpha(inp[0], alphapos1, alphaneg1) + intargmax[0]\n",
    "                     + applyalpha(inp[1], alphapos2, alphaneg2) + intargmax[1]\n",
    "                     + np.abs(inp[0]) + np.abs(inp[1])\n",
    "                      )\n",
    "         )\n",
    "\n",
    "    return np.sqrt(dim1 * dim2) * np.einsum('ij...,ij->...',\n",
    "              integrand(scheme2dpoints),\n",
    "              scheme2dwts\n",
    "             )"
   ]
  },
  {
   "cell_type": "markdown",
   "metadata": {},
   "source": [
    "# Verification of Theory with Simulation"
   ]
  },
  {
   "cell_type": "code",
   "execution_count": 10,
   "metadata": {
    "ExecuteTime": {
     "end_time": "2019-10-31T13:52:38.028893Z",
     "start_time": "2019-10-31T13:52:37.232897Z"
    }
   },
   "outputs": [],
   "source": [
    "import torch\n",
    "import torchvision\n",
    "import torchvision.transforms as transforms"
   ]
  },
  {
   "cell_type": "markdown",
   "metadata": {},
   "source": [
    "We'll work with a 2-layer ReLU+BN neural network over 64 samples from CIFAR10."
   ]
  },
  {
   "cell_type": "code",
   "execution_count": 11,
   "metadata": {
    "ExecuteTime": {
     "end_time": "2019-10-31T13:52:38.033896Z",
     "start_time": "2019-10-31T13:52:38.030900Z"
    }
   },
   "outputs": [],
   "source": [
    "nsamples = 64\n",
    "depth = 2"
   ]
  },
  {
   "cell_type": "code",
   "execution_count": 12,
   "metadata": {
    "ExecuteTime": {
     "end_time": "2019-10-31T13:52:39.436760Z",
     "start_time": "2019-10-31T13:52:38.035896Z"
    }
   },
   "outputs": [
    {
     "name": "stdout",
     "output_type": "stream",
     "text": [
      "Files already downloaded and verified\n"
     ]
    }
   ],
   "source": [
    "transform = transforms.Compose(\n",
    "    [transforms.ToTensor(),\n",
    "     transforms.Normalize((0.5, 0.5, 0.5), (0.5, 0.5, 0.5))])\n",
    "\n",
    "trainset = torchvision.datasets.CIFAR10(root='./data', train=True,\n",
    "                                        download=True, transform=transform)"
   ]
  },
  {
   "cell_type": "code",
   "execution_count": 13,
   "metadata": {
    "ExecuteTime": {
     "end_time": "2019-10-31T13:52:49.095341Z",
     "start_time": "2019-10-31T13:52:39.439762Z"
    }
   },
   "outputs": [],
   "source": [
    "myimages = list(trainset)[:nsamples]\n",
    "myimages = np.array([im[0].numpy() for im in myimages])"
   ]
  },
  {
   "cell_type": "code",
   "execution_count": 14,
   "metadata": {
    "ExecuteTime": {
     "end_time": "2019-10-31T13:52:49.101268Z",
     "start_time": "2019-10-31T13:52:49.096237Z"
    }
   },
   "outputs": [
    {
     "data": {
      "text/plain": [
       "(64, 3, 32, 32)"
      ]
     },
     "execution_count": 14,
     "metadata": {},
     "output_type": "execute_result"
    }
   ],
   "source": [
    "myimages.shape"
   ]
  },
  {
   "cell_type": "code",
   "execution_count": 15,
   "metadata": {
    "ExecuteTime": {
     "end_time": "2019-10-31T13:52:49.131243Z",
     "start_time": "2019-10-31T13:52:49.103237Z"
    }
   },
   "outputs": [],
   "source": [
    "inker = myimages.reshape(nsamples, -1) @ myimages.reshape(nsamples, -1).T / (3 * 32 * 32)"
   ]
  },
  {
   "cell_type": "markdown",
   "metadata": {},
   "source": [
    "We divide the 64 samples into 2 batches of 32, so that `ker11` denotes the \"autocovariance\" of the 1st batch, `ker22` denotes that of the 2nd batch, and `ker12` denotes the \"covariance\" between the 1st and the 2nd."
   ]
  },
  {
   "cell_type": "code",
   "execution_count": 16,
   "metadata": {
    "ExecuteTime": {
     "end_time": "2019-10-31T13:52:49.138243Z",
     "start_time": "2019-10-31T13:52:49.133241Z"
    }
   },
   "outputs": [],
   "source": [
    "myimages1 = myimages[:nsamples//2]\n",
    "myimages2 = myimages[nsamples//2:]\n",
    "ker11 = inker[:nsamples//2, :nsamples//2]\n",
    "ker22 = inker[nsamples//2:, nsamples//2:]\n",
    "ker12 = inker[:nsamples//2, nsamples//2:]"
   ]
  },
  {
   "cell_type": "markdown",
   "metadata": {},
   "source": [
    "We finally apply our functions `VBNReLU` and `VBNReLUCrossBatch`."
   ]
  },
  {
   "cell_type": "code",
   "execution_count": 17,
   "metadata": {
    "ExecuteTime": {
     "end_time": "2019-10-31T13:52:50.258243Z",
     "start_time": "2019-10-31T13:52:49.140239Z"
    }
   },
   "outputs": [],
   "source": [
    "Sigma1s = [ker11]\n",
    "Sigma2s = [ker22]\n",
    "Xis = [ker12]\n",
    "for _ in range(depth):\n",
    "    Sigma1 = Sigma1s[-1]\n",
    "    Sigma2 = Sigma2s[-1]\n",
    "    Xi = Xis[-1]\n",
    "    Sigma1s.append(VBNReLU(Sigma1))\n",
    "    Sigma2s.append(VBNReLU(Sigma2))\n",
    "    Xis.append(VBNReLUCrossBatch(Xi, Sigma1, Sigma2))"
   ]
  },
  {
   "cell_type": "code",
   "execution_count": 18,
   "metadata": {
    "ExecuteTime": {
     "end_time": "2019-10-31T13:52:50.266239Z",
     "start_time": "2019-10-31T13:52:50.260242Z"
    }
   },
   "outputs": [],
   "source": [
    "ker = np.block(\n",
    "    [\n",
    "        [Sigma1s[-1], Xis[-1]],\n",
    "        [Xis[-1].T, Sigma2s[-1]]\n",
    "    ]\n",
    ")"
   ]
  },
  {
   "cell_type": "markdown",
   "metadata": {},
   "source": [
    "For example, this is what our 2-layer BN+ReLU NNGP kernel looks like."
   ]
  },
  {
   "cell_type": "code",
   "execution_count": 19,
   "metadata": {
    "ExecuteTime": {
     "end_time": "2019-10-31T13:52:51.007236Z",
     "start_time": "2019-10-31T13:52:50.269242Z"
    }
   },
   "outputs": [
    {
     "data": {
      "image/png": "[encoded data removed]",
      "text/plain": [
       "<Figure size 576x576 with 8 Axes>"
      ]
     },
     "metadata": {
      "needs_background": "light"
     },
     "output_type": "display_data"
    }
   ],
   "source": [
    "from utils import getCor, colorbar\n",
    "\n",
    "plt.figure(figsize=(8, 8))\n",
    "\n",
    "plt.subplot(221)\n",
    "ax = plt.gca()\n",
    "im_thcov = plt.imshow(ker, cmap='PuBu_r')\n",
    "plt.title('BN+ReLU covariances (theory)')\n",
    "plt.grid()\n",
    "colorbar(im_thcov)\n",
    "\n",
    "plt.subplot(222)\n",
    "ax = plt.gca()\n",
    "im_thcor = plt.imshow(getCor(ker), cmap='viridis')\n",
    "plt.title('BN+ReLU correlations (theory)')\n",
    "plt.grid()\n",
    "colorbar(im_thcor)\n",
    "\n",
    "\n",
    "plt.subplot(223)\n",
    "ax = plt.gca()\n",
    "im_input = plt.imshow(inker, cmap='PuBu_r')\n",
    "plt.title('Input covariances')\n",
    "plt.grid()\n",
    "colorbar(im_input)\n",
    "\n",
    "plt.subplot(224)\n",
    "ax = plt.gca()\n",
    "im_inputcor = plt.imshow(getCor(inker), cmap='viridis')\n",
    "plt.title('Input correlations')\n",
    "plt.grid()\n",
    "colorbar(im_inputcor)\n",
    "\n",
    "plt.tight_layout()"
   ]
  },
  {
   "cell_type": "code",
   "execution_count": 20,
   "metadata": {
    "ExecuteTime": {
     "end_time": "2019-10-31T13:52:51.014237Z",
     "start_time": "2019-10-31T13:52:51.008237Z"
    }
   },
   "outputs": [],
   "source": [
    "with open('BN.kernel', 'wb') as f:\n",
    "    np.save(f, ker)"
   ]
  },
  {
   "cell_type": "markdown",
   "metadata": {},
   "source": [
    "## Compute Simulations"
   ]
  },
  {
   "cell_type": "code",
   "execution_count": 21,
   "metadata": {
    "ExecuteTime": {
     "end_time": "2019-10-31T13:55:31.311924Z",
     "start_time": "2019-10-31T13:55:31.304930Z"
    }
   },
   "outputs": [],
   "source": [
    "from torch import nn\n",
    "from torch.autograd import Variable\n",
    "import pandas as pd"
   ]
  },
  {
   "cell_type": "code",
   "execution_count": 22,
   "metadata": {
    "ExecuteTime": {
     "end_time": "2019-10-31T13:55:31.347483Z",
     "start_time": "2019-10-31T13:55:31.336483Z"
    }
   },
   "outputs": [],
   "source": [
    "class MyNet(nn.Module):\n",
    "    def __init__(self, nonlin, width=500, depth=2, inputdim=None):\n",
    "        super(MyNet, self).__init__()\n",
    "        self.nonlin = nonlin\n",
    "        self.width = width\n",
    "        self.depth = depth\n",
    "        self.params = nn.ParameterList()\n",
    "        self.BNs = nn.ModuleList()\n",
    "        self.nonlins = nn.ModuleList()\n",
    "        for i in range(depth):\n",
    "            if i == 0:\n",
    "                if inputdim is None:\n",
    "                    inputdim = width\n",
    "                w = Variable(torch.randn(width, inputdim) / np.sqrt(width), requires_grad=True)\n",
    "            else:\n",
    "                w = Variable(torch.randn(width, width) / np.sqrt(width), requires_grad=True)\n",
    "            self.params.append(nn.Parameter(w))\n",
    "            self.BNs.append(nn.BatchNorm1d(width, eps=0, momentum=None, affine=False, track_running_stats=False))\n",
    "            self.nonlins.append(nonlin())\n",
    "    def forward(self, x):\n",
    "        for i in range(self.depth):\n",
    "            w = self.params[i]\n",
    "            h = torch.einsum('ij,kj->ki', w, x)\n",
    "            x = self.nonlins[i](self.BNs[i](h))\n",
    "        return x\n",
    "        "
   ]
  },
  {
   "cell_type": "markdown",
   "metadata": {},
   "source": [
    "We randomly initialize 100 BN+ReLU networks for each width among $[2^5, 2^6, \\ldots, 2^{13}]$ and run them on the two batches defined above.\n",
    "We calculate the empirical Gram matrix of the network outputs as well as its Frobenius distance to the infinite-width theoretical kernel."
   ]
  },
  {
   "cell_type": "code",
   "execution_count": 23,
   "metadata": {
    "ExecuteTime": {
     "end_time": "2019-10-31T13:56:59.092531Z",
     "start_time": "2019-10-31T13:55:31.354483Z"
    }
   },
   "outputs": [],
   "source": [
    "widths = [2**i for i in range(5, 13)]\n",
    "frobs = []\n",
    "V11 = Sigma1s[-1]\n",
    "V22 = Sigma2s[-1]\n",
    "V12 = Xis[-1]\n",
    "V11frob = np.sum(V11**2)\n",
    "V22frob = np.sum(V22**2)\n",
    "V12frob = np.sum(V12**2)\n",
    "Vfrob = V11frob + V22frob + 2 * V12frob\n",
    "batch1 = torch.from_numpy(myimages1.reshape(nsamples//2, -1))\n",
    "batch2 = torch.from_numpy(myimages2.reshape(nsamples//2, -1))\n",
    "for width in widths:\n",
    "    for _ in range(100):\n",
    "        mynet = MyNet(nn.ReLU,\n",
    "                      width=width,\n",
    "                      depth=depth, inputdim=3072)\n",
    "        out = []\n",
    "        simbatch1 = mynet(batch1)\n",
    "        simbatch2 = mynet(batch2)\n",
    "        simV11 = simbatch1 @ simbatch1.t() / simbatch1.shape[-1]\n",
    "        simV22 = simbatch2 @ simbatch2.t() / simbatch2.shape[-1]\n",
    "        simV12 = simbatch1 @ simbatch2.t() / simbatch1.shape[-1]\n",
    "        diffV11 = simV11 - torch.from_numpy(V11).float()\n",
    "        diffV22 = simV22 - torch.from_numpy(V22).float()\n",
    "        diffV12 = simV12 - torch.from_numpy(V12).float()\n",
    "        difffrob11 = torch.sum(diffV11**2).item()\n",
    "        difffrob22 = torch.sum(diffV22**2).item()\n",
    "        difffrob12 = torch.sum(diffV12**2).item()\n",
    "        frobs.append(\n",
    "        {\n",
    "            'relfrob11': difffrob11 / V11frob,\n",
    "            'relfrob22': difffrob22 / V22frob,\n",
    "            'relfrob12': difffrob12 / V12frob,\n",
    "            'relfrob': (difffrob11 + difffrob22 + 2 * difffrob12) / Vfrob,\n",
    "            'width': width\n",
    "        })"
   ]
  },
  {
   "cell_type": "markdown",
   "metadata": {},
   "source": [
    "We store the results in a dataframe `frob_df`."
   ]
  },
  {
   "cell_type": "code",
   "execution_count": 24,
   "metadata": {
    "ExecuteTime": {
     "end_time": "2019-10-31T13:56:59.105531Z",
     "start_time": "2019-10-31T13:56:59.094531Z"
    }
   },
   "outputs": [],
   "source": [
    "frob_df = pd.DataFrame(frobs)"
   ]
  },
  {
   "cell_type": "code",
   "execution_count": 25,
   "metadata": {
    "ExecuteTime": {
     "end_time": "2019-10-31T13:56:59.150534Z",
     "start_time": "2019-10-31T13:56:59.108532Z"
    }
   },
   "outputs": [],
   "source": [
    "frob_df.to_pickle('BN.df')"
   ]
  },
  {
   "cell_type": "markdown",
   "metadata": {},
   "source": [
    "## Compare Theory with Simulations"
   ]
  },
  {
   "cell_type": "markdown",
   "metadata": {},
   "source": [
    "The deviation from infinite-width theory drops with width, as expected."
   ]
  },
  {
   "cell_type": "code",
   "execution_count": 26,
   "metadata": {
    "ExecuteTime": {
     "end_time": "2019-10-31T13:56:59.961530Z",
     "start_time": "2019-10-31T13:56:59.153532Z"
    }
   },
   "outputs": [
    {
     "data": {
      "image/png": "[encoded data removed]",
      "text/plain": [
       "<Figure size 432x288 with 1 Axes>"
      ]
     },
     "metadata": {
      "needs_background": "light"
     },
     "output_type": "display_data"
    }
   ],
   "source": [
    "sns.boxplot(x='width', y='relfrob12', data=frob_df)\n",
    "plt.semilogy()\n",
    "plt.title('Deviation From Infinite-width Theory')\n",
    "_ = plt.ylabel(u'Relative Squared Frob. Norm\\n $\\|K_{\\infty} - K_{width}\\|_F^2/\\|K_{\\infty}\\|_F^2$')"
   ]
  },
  {
   "cell_type": "markdown",
   "metadata": {},
   "source": [
    "The deviation from theory in *squared* Frobenius norm scales like $\\frac{1}{width}$ (so, in Frobenius norm, the deviation scales like $width^{-1/2}$)."
   ]
  },
  {
   "cell_type": "code",
   "execution_count": 27,
   "metadata": {
    "ExecuteTime": {
     "end_time": "2019-10-31T13:57:00.507299Z",
     "start_time": "2019-10-31T13:56:59.962530Z"
    }
   },
   "outputs": [
    {
     "data": {
      "image/png": "[encoded data removed]",
      "text/plain": [
       "<Figure size 432x288 with 1 Axes>"
      ]
     },
     "metadata": {
      "needs_background": "light"
     },
     "output_type": "display_data"
    }
   ],
   "source": [
    "frob_df.groupby('width', as_index=False).mean().plot.line(x='width', y='relfrob')\n",
    "plt.plot(widths, np.array(widths, dtype='float')**-1, '--', label=u'${width}^{-1}$')\n",
    "plt.ylabel(u'Mean Relative Squared Frob. Norm\\n $\\|K_{\\infty} - K_{width}\\|_F^2/\\|K_{\\infty}\\|_F^2$')\n",
    "plt.loglog()\n",
    "plt.legend()\n",
    "_ = plt.title(u'Deviation from Theory in (Frobenius norm)$^2$ drops like $width^{-1}$')"
   ]
  }
 ],
 "metadata": {
  "kernelspec": {
   "display_name": "Python 3",
   "language": "python",
   "name": "python3"
  },
  "language_info": {
   "codemirror_mode": {
    "name": "ipython",
    "version": 3
   },
   "file_extension": ".py",
   "mimetype": "text/x-python",
   "name": "python",
   "nbconvert_exporter": "python",
   "pygments_lexer": "ipython3",
   "version": "3.7.3"
  },
  "toc": {
   "base_numbering": 1,
   "nav_menu": {},
   "number_sections": true,
   "sideBar": true,
   "skip_h1_title": false,
   "title_cell": "Table of Contents",
   "title_sidebar": "Contents",
   "toc_cell": false,
   "toc_position": {},
   "toc_section_display": true,
   "toc_window_display": false
  }
 },
 "nbformat": 4,
 "nbformat_minor": 2
}
