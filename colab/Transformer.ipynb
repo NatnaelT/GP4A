{
  "nbformat": 4,
  "nbformat_minor": 0,
  "metadata": {
    "kernelspec": {
      "display_name": "Python 3",
      "language": "python",
      "name": "python3"
    },
    "language_info": {
      "codemirror_mode": {
        "name": "ipython",
        "version": 3
      },
      "file_extension": ".py",
      "mimetype": "text/x-python",
      "name": "python",
      "nbconvert_exporter": "python",
      "pygments_lexer": "ipython3",
      "version": "3.7.3"
    },
    "toc": {
      "base_numbering": 1,
      "nav_menu": {},
      "number_sections": true,
      "sideBar": true,
      "skip_h1_title": false,
      "title_cell": "Table of Contents",
      "title_sidebar": "Contents",
      "toc_cell": false,
      "toc_position": {},
      "toc_section_display": true,
      "toc_window_display": false
    },
    "colab": {
      "name": "Transformer.ipynb",
      "provenance": []
    }
  },
  "cells": [
    {
      "cell_type": "markdown",
      "metadata": {
        "id": "2Oy95BMcU4b_",
        "colab_type": "text"
      },
      "source": [
        "This notebook computes the infinite-width GP kernel for a Transformer.\n",
        "The code runs as is, and we summarize the algorithm for computing the kernel in markdown cells, but the reader should take a look at the derivation in the paper to get the full picture.\n",
        "We recommend the reader to have gone through [the RNN notebook](RNN.ipynb) first."
      ]
    },
    {
      "cell_type": "markdown",
      "metadata": {
        "id": "hWodDJQJU4cB",
        "colab_type": "text"
      },
      "source": [
        "# Setup"
      ]
    },
    {
      "cell_type": "code",
      "metadata": {
        "ExecuteTime": {
          "end_time": "2020-01-04T10:42:46.849907Z",
          "start_time": "2020-01-04T10:42:45.730605Z"
        },
        "id": "LAIsQ3ViU4cC",
        "colab_type": "code",
        "colab": {}
      },
      "source": [
        "import numpy as np\n",
        "import scipy as sp\n",
        "from numpy import asarray as npa\n",
        "import numbers\n",
        "import pandas as pd\n",
        "import seaborn as sns\n",
        "sns.set()\n",
        "import matplotlib.pyplot as plt"
      ],
      "execution_count": 0,
      "outputs": []
    },
    {
      "cell_type": "code",
      "metadata": {
        "id": "-9XYfpViVpX-",
        "colab_type": "code",
        "outputId": "530a8874-bf15-4833-8c27-7c2cf587e4e8",
        "colab": {
          "base_uri": "https://localhost:8080/",
          "height": 34
        }
      },
      "source": [
        "!git clone -q https://github.com/thegregyang/GP4A\n",
        "%cd GP4A/"
      ],
      "execution_count": 0,
      "outputs": [
        {
          "output_type": "stream",
          "text": [
            "/content/GP4A\n"
          ],
          "name": "stdout"
        }
      ]
    },
    {
      "cell_type": "markdown",
      "metadata": {
        "id": "hYipPHTFU4cF",
        "colab_type": "text"
      },
      "source": [
        "Load the GloVe vectors and their covariances that we have saved.\n",
        "They were generated from the two sentences\n",
        "\n",
        "```The brown fox jumps over the dog.```\n",
        "\n",
        "```The quick brown fox jumps over the lazy dog.```\n",
        "\n",
        "Concretely, `exampleGloveVecs[:7]` contains the GloVe embeddings of the first sentence, and `exampleGloveVecs[7:16]` contains those of the second sentence.\n",
        "\n",
        "Likewise, `exampleGloveCov` is a 16x16 matrix, such that `exampleGloveCov[:7, :7]` gives the autocovariance of the GloVe embeddings of the first sentence, `exampleGloveCov[7:, 7:]` gives that of the second sentence, and `exampleGloveCov[:7, 7:]` gives the covariance between those of the first and those of the second sentence."
      ]
    },
    {
      "cell_type": "code",
      "metadata": {
        "ExecuteTime": {
          "end_time": "2020-01-04T10:42:46.854904Z",
          "start_time": "2020-01-04T10:42:46.850906Z"
        },
        "id": "zIiWEF6WU4cG",
        "colab_type": "code",
        "colab": {}
      },
      "source": [
        "sent1 = \"The brown fox jumps over the dog\".split()\n",
        "sent2 = \"The quick brown fox jumps over the lazy dog\".split()"
      ],
      "execution_count": 0,
      "outputs": []
    },
    {
      "cell_type": "code",
      "metadata": {
        "ExecuteTime": {
          "end_time": "2020-01-04T10:42:46.878942Z",
          "start_time": "2020-01-04T10:42:46.857469Z"
        },
        "id": "6mzT6OxiU4cI",
        "colab_type": "code",
        "colab": {}
      },
      "source": [
        "with open('ExampleGloVeVecs.npy', 'rb') as f:\n",
        "    exampleGloveVecs = np.load(f)\n",
        "with open('ExampleGloVeCov.npy', 'rb') as f:\n",
        "    exampleGloveCov = np.load(f)"
      ],
      "execution_count": 0,
      "outputs": []
    },
    {
      "cell_type": "markdown",
      "metadata": {
        "id": "T05rskWnU4cK",
        "colab_type": "text"
      },
      "source": [
        "# Self-Attention / Transformers"
      ]
    },
    {
      "cell_type": "markdown",
      "metadata": {
        "id": "dORXlT3UU4cL",
        "colab_type": "text"
      },
      "source": [
        "We'll work with the following variant of the transformer model.\n",
        "Let $x^0_1, \\ldots, x^0_t$ be a sequence of inputs.\n",
        "Then each layer $l$ of our transformer works like so\n",
        "$$\\begin{align*}\n",
        "k^l_i &= U^l x_i^{l-1} \\in \\mathbb{R}^n\\\\\n",
        "h^l_i &= \\mathrm{Layernorm}(k^l_i + \\mathrm{MaskedAttention}_i(k^l_i, \\{k^l_j\\}_{j=1}^t, \\{k^l_j\\}_{j=1}^t))\\\\\n",
        "x^l_i &= \\mathrm{Layernorm}(W^{l2}\\mathrm{relu}(W^{l1}h^l_i + b^{l1})+ b^{l2} + h^l_i)\n",
        "\\end{align*}$$\n",
        "where $U^l$, $W^{l1}, W^{l2}$ are weights and $b^{l1}, b^{l2}$ are the biases, and\n",
        "$$\\mathrm{MaskedAttention}_j(q, \\{k^i\\}_{i=1}^r, \\{v^i\\}_{i=1}^r)\n",
        "= \\sum_{i=1}^r a_i v^i, \\qquad\n",
        "a_i = \\mathrm{SoftMax}(q^\\top k^1/n, \\ldots, q^\\top k^j/n, -\\infty, \\ldots, -\\infty)_i$$\n",
        "for any $j \\le r$."
      ]
    },
    {
      "cell_type": "markdown",
      "metadata": {
        "id": "7bRQ-wEkU4cM",
        "colab_type": "text"
      },
      "source": [
        "There are several differences between this transformer and the standard version of [Vaswani et al. 2017](https://arxiv.org/abs/1706.03762):\n",
        "\n",
        "- We do not represent positional embedding explicitly; assume that they are already applied to $x^0_1, \\ldots, x^0_t$.\n",
        "- The keys, values, and queries here are the same, compared to the standard version, where they are different linear projections of $x^{l-1}_i$\n",
        "- There is only 1 head, compared to the standard multi-head attention\n",
        "- Our scaled attention is scaled by $n^{-1}$ instead of $n^{-1/2}$\n",
        "\n",
        "The first three differences are just to simplify the presentation, but the last difference is fundamental.\n",
        "As $n \\to \\infty$, $q^\\top k/n$ will tend to a constant almost surely, but $q^\\top k /\\sqrt n$ will tend to either infinity (if $\\lim_{n\\to\\infty} q^\\top k/n \\ne 0$) or a Gaussian variable (if $\\lim_{n\\to\\infty} q^\\top k/n = 0$).\n",
        "In our case, since the keys and the queries are from the same collection, $q^\\top k /n$ in general has a nonzero limit, so that $q^\\top k /\\sqrt n$ does not make sense here.\n"
      ]
    },
    {
      "cell_type": "markdown",
      "metadata": {
        "id": "uMSVgWXWU4cM",
        "colab_type": "text"
      },
      "source": [
        "In code, this version of transformer looks like the following"
      ]
    },
    {
      "cell_type": "code",
      "metadata": {
        "ExecuteTime": {
          "end_time": "2020-01-04T10:42:47.226025Z",
          "start_time": "2020-01-04T10:42:46.880941Z"
        },
        "id": "Fh-dCEJGU4cN",
        "colab_type": "code",
        "colab": {}
      },
      "source": [
        "# using torch only for inplace sampling of tensors\n",
        "import torch as th\n",
        "\n",
        "def relu(c):\n",
        "    return c * (c > 0)\n",
        "    \n",
        "class Transformer():\n",
        "    def __init__(self, d, d_in, depth, temp=1, vu=1, vw=1, vb=0):\n",
        "        self.d = d\n",
        "        self.depth = depth\n",
        "        self.temp = temp\n",
        "        self.vu = vu\n",
        "        self.vw = vw\n",
        "        self.vb = vb\n",
        "        self.Us = [np.random.randn(d, d) * np.sqrt(vu/d) \n",
        "                   for _ in range(depth-1)]\n",
        "        self.W1s = [np.random.randn(d, d) * np.sqrt(vw/d) \n",
        "                   for _ in range(depth)]\n",
        "        self.b1s = [np.random.randn(d) * np.sqrt(vb)\n",
        "                    for _ in range(depth)]\n",
        "        self.W2s = [np.random.randn(d, d) * np.sqrt(vw/d) \n",
        "                   for _ in range(depth)]\n",
        "        self.b2s = [np.random.randn(d) * np.sqrt(vb)\n",
        "                    for _ in range(depth)]\n",
        "        self.embedding = np.random.randn(d_in, d) * np.sqrt(vu/d_in)\n",
        "        \n",
        "    def __call__(self, seq):\n",
        "        '''\n",
        "        Input:\n",
        "            seq: seqlen x tokensize array, for any seqlen and tokensize\n",
        "        Output:\n",
        "            out: seqlen x self.d_in array, for the same seqlen as input\n",
        "        '''\n",
        "        inseq = seq @ self.embedding\n",
        "        for l in range(self.depth):\n",
        "            if l > 0:\n",
        "                inseq = inseq @ self.Us[l-1]\n",
        "            # self attn\n",
        "            gram = inseq @ inseq.T / inseq.shape[1]\n",
        "            gram[np.triu_indices(gram.shape[0], 1)] = -np.inf\n",
        "            weights = sp.special.softmax(gram / self.temp, axis=1)\n",
        "            # weights @ inseq gives vectors returned by attention\n",
        "            # inseq + weights @ inseq is the residual connection\n",
        "            post_attn = self.layernorm(inseq + weights @ inseq)\n",
        "            # self.post_attn = post_attn\n",
        "            \n",
        "            # FF\n",
        "            inseq = relu(post_attn @ self.W1s[l] + self.b1s[l])\n",
        "            inseq = inseq @ self.W2s[l] + self.b2s[l]\n",
        "            inseq = self.layernorm(inseq + post_attn)\n",
        "            \n",
        "        return inseq\n",
        "    def layernorm(self, seq):\n",
        "        '''inplace layernorm\n",
        "        Input:\n",
        "            seq: seqlen x tokensize array, for any seqlen and tokensize\n",
        "        Output:\n",
        "            out: seqlen x tokensize array\n",
        "                Means and standard deviation computed over the `tokensize` dimension\n",
        "        '''\n",
        "        seq -= np.mean(seq, axis=1, keepdims=True)\n",
        "        seq /= np.std(seq, axis=1, keepdims=True)\n",
        "        return seq\n",
        "        \n",
        "    def randomize(self, vu=None, vw=None, vb=None):\n",
        "        if vu is None:\n",
        "            vu = self.vu\n",
        "        if vw is None:\n",
        "            vw = self.vw\n",
        "        if vb is None:\n",
        "            vb = self.vb\n",
        "        for p in self.W1s + self.W2s:\n",
        "            # numpy has no way of sampling in place\n",
        "            th.from_numpy(p).normal_(std=np.sqrt(vw / self.d))\n",
        "        for p in self.b1s + self.b2s:\n",
        "            th.from_numpy(p).normal_(std=np.sqrt(vb))\n",
        "        for p in self.Us:\n",
        "            th.from_numpy(p).normal_(std=np.sqrt(vu / self.d))"
      ],
      "execution_count": 0,
      "outputs": []
    },
    {
      "cell_type": "markdown",
      "metadata": {
        "id": "ZXn6cVlzU4cP",
        "colab_type": "text"
      },
      "source": [
        "# Theoretical Kernel"
      ]
    },
    {
      "cell_type": "markdown",
      "metadata": {
        "id": "JuarurPrU4cR",
        "colab_type": "text"
      },
      "source": [
        "For simplicity, assume for all $\\alpha, \\beta \\in [n]$,\n",
        "\n",
        "- $W^{l1}_{\\alpha\\beta}, W^{l2}_{\\alpha\\beta} \\sim \\mathcal{N}(0, \\sigma_w^2/n)$ for all $l \\ge 1$\n",
        "- $U^l_{\\alpha\\beta} \\sim \\mathcal{N}(0, \\sigma_u^2/n)$ for all $l \\ge 2$ and $U^1_{\\alpha\\beta} \\sim \\mathcal{N}(0, \\sigma_u^2/m)$\n",
        "- $b^{l1}_\\alpha, b^{l2}_\\alpha \\sim \\mathcal{N}(0, \\sigma_b^2)$ for all $l$"
      ]
    },
    {
      "cell_type": "markdown",
      "metadata": {
        "id": "dUDj7a_cU4cS",
        "colab_type": "text"
      },
      "source": [
        "Suppose we have 2 input sequences $\\{x_{11}, \\ldots, x_{T_1 1} \\in \\mathbb R^m \\}$ and $\\{x_{12}, \\ldots, x_{T_2 2} \\in \\mathbb R^m\\}$ of lengths $T_1$ and $T_2$ respectively.\n",
        "The transformer maps each sequence to another sequence of embeddings\n",
        "$$y_{1a}, \\ldots, y_{T_a a} = \\mathrm{Transformer}(x_{1a}, \\ldots, x_{T_a a}), a \\in [2],$$\n",
        "with each $y_{ia} \\in \\mathbb R^n$.\n",
        "Our paper (in particular, the *NETSOR Master Theorem*) shows that the Gram matrix of $y_{ia}$s converge to a deterministic limit $K \\in \\mathbb R^{(T_1 + T_2) \\times (T_1 + T_2)}$ as the width $n \\to \\infty$ and as the weights and biases are sampled as above.\n",
        "When combined with an independently sampled readout layer, this result shows that the infinite-width transformer is a GP at initialization with kernel $K$."
      ]
    },
    {
      "cell_type": "markdown",
      "metadata": {
        "id": "lMprrhvKU4cT",
        "colab_type": "text"
      },
      "source": [
        "We may compute the matrix $K$ as follows (see paper for derivation):"
      ]
    },
    {
      "cell_type": "markdown",
      "metadata": {
        "id": "lWJwfCyLU4cU",
        "colab_type": "text"
      },
      "source": [
        "- Initialize $\\boldsymbol \\Sigma^0 \\in \\mathbb R^{(T_1 + T_2) \\times (T_1 + T_2)}$ by $\\boldsymbol \\Sigma^0 \\gets \\sigma_u^2 x_{ia}^\\top x_{jb} / m$ for all $a, b \\in [2]$ and $i \\in [T_a], j \\in [T_b]$.\n",
        "\n",
        "- For $l = 1, \\ldots, L$, do\n",
        "    - Set $\\Sigma^{l-1, 1} \\gets \\boldsymbol \\Sigma^{l-1}_{1:T_1, 1:T_1}$ be the diagonal block corresponding to the 1st sequence, and set $\\Sigma^{l-1, 2} \\gets \\boldsymbol \\Sigma^{l-1}_{T_1+1:T_1+T_2, T_1+1:T_1+T_2}$ be the diagonal block corresponding to the 2nd sequence.\n",
        "    - Set $\\Delta^{la} \\gets \\mathrm{SoftMax}(\\mathrm{Mask}(\\Sigma^{l-1,a}))$ for each $a \\in [2]$, where $\\mathrm{Mask}$ replaces the upper triangular portion portion (above the diagonal) with $-\\infty$, and $\\mathrm{SoftMax}$ is applied to each row.\n",
        "        - *This calculates the masked-attention weights.*\n",
        "    - Set $\\boldsymbol \\Delta^l \\gets \\begin{pmatrix} \\Delta^{l1} & 0 \\\\ 0 & \\Delta^{l2} \\end{pmatrix}$\n",
        "    - Set $\\hat {\\boldsymbol \\Sigma}^l \\gets (I + \\boldsymbol \\Delta^l) \\boldsymbol \\Sigma^{l-1} (I + \\boldsymbol \\Delta^l)^\\top$\n",
        "        - *This computes the Gram matrix of post-(attention+residual) activations*\n",
        "    - Set $\\hat {\\boldsymbol \\Sigma}^l \\gets D^{-1/2} \\hat {\\boldsymbol \\Sigma}^l D^{-1/2}$, where $D = \\mathrm{Diag}(\\boldsymbol \\Sigma^l)$\n",
        "        - *Division by $D^{1/2}$ corresponds to applying layernorm*\n",
        "    - Set $\\boldsymbol \\Sigma^l \\gets \\sigma_w^2 \\mathrm{V}_{\\mathrm{ReLU}}(\\sigma_w^2 \\hat{\\boldsymbol \\Sigma}^l + \\sigma_b^2) + \\sigma_b^2$\n",
        "        - *Here $\\mathrm{V}_{\\mathrm{ReLU}}(\\Sigma) = D^{1/2} J_1(D^{-1/2}\\Sigma D^{-1/2}) D^{1/2}$ where $D = \\mathrm{Diag}(\\Sigma)$ and $J_1: [-1, 1] \\to \\mathbb R$ is defined as\n",
        "            $$J_1(c) = \\frac 1 \\pi (\\sqrt{1 - c^2} + (\\pi - \\arccos(c))c)$$\n",
        "            and is applied entrywise.*\n",
        "        - *This corresponds to applying the perceptron*\n",
        "    - Set $\\boldsymbol \\Sigma^l \\gets \\sigma_u^2 D^{-1/2}(\\boldsymbol \\Sigma^l + \\hat{\\boldsymbol \\Sigma}^l) D^{-1/2}$, where $D = \\mathrm{Diag}(\\boldsymbol \\Sigma^l + \\hat{\\boldsymbol \\Sigma}^l)$.\n",
        "        - *The addition corresponds to skip connection*\n",
        "        - *The division by $D^{1/2}$ corresponds to layernorm*\n",
        "    \n",
        "- Return $\\frac 1 {\\sigma_u^2} \\boldsymbol \\Sigma^L$"
      ]
    },
    {
      "cell_type": "markdown",
      "metadata": {
        "id": "Xm6vGf8BU4cV",
        "colab_type": "text"
      },
      "source": [
        "## Numpy Implementation"
      ]
    },
    {
      "cell_type": "markdown",
      "metadata": {
        "id": "Qv7CQ4uRU4cV",
        "colab_type": "text"
      },
      "source": [
        "The following implements the above in `numpy`."
      ]
    },
    {
      "cell_type": "code",
      "metadata": {
        "ExecuteTime": {
          "end_time": "2020-01-04T10:42:47.256988Z",
          "start_time": "2020-01-04T10:42:47.226985Z"
        },
        "id": "0qcrMSIEU4cW",
        "colab_type": "code",
        "colab": {}
      },
      "source": [
        "from utils import VReLU, getCor\n",
        "def _trsfmr2(ingram, seq2idx, temp=1, vu=1, vw=1, vb=0):\n",
        "    r'''Private method.\n",
        "    Computes the kernel for a 1-layer single-head transformer\n",
        "    running over 2 sequences\n",
        "    Inputs:\n",
        "        ingram: matrix.\n",
        "            The gram matrix for the tokens of the two sequences\n",
        "        seq2idx: the index such that\n",
        "            `ingram[:seq2idx, :seq2idx]` is the gram matrix\n",
        "             of the first sequence, and\n",
        "             `ingram[seq2idx:, seq2idx:]` is the gram matrix\n",
        "             of the second sequence.\n",
        "        temp: temperature for softmax\n",
        "        vu: variance of pre-attention weights\n",
        "        vw: variance of MLP weights\n",
        "        vb: variance of bias\n",
        "    Outputs:\n",
        "        the kernel of the same size as `ingram`\n",
        "        of the output tokens of the transformer\n",
        "    '''\n",
        "    ingram = vu * ingram\n",
        "    ingram1 = np.copy(ingram[:seq2idx, :seq2idx])\n",
        "    ingram2 = np.copy(ingram[seq2idx:, seq2idx:])\n",
        "    # masked presoftmax values\n",
        "    ingram1[np.triu_indices(ingram1.shape[0], 1)] = -np.inf\n",
        "    ingram2[np.triu_indices(ingram2.shape[0], 1)] = -np.inf\n",
        "    # Gram matrix of the linear combination weights to be applied\n",
        "    #   as the combination of attention and skip connection.\n",
        "    # The identity matrix represents the skip connection.\n",
        "    # The softmax part represents attention weights\n",
        "    # Weights for sequence 1\n",
        "    K1 = np.eye(ingram1.shape[0]) \\\n",
        "        + sp.special.softmax(ingram1 / temp, axis=1)\n",
        "    # Weights for sequence 2\n",
        "    K2 = np.eye(ingram2.shape[0]) \\\n",
        "        + sp.special.softmax(ingram2 / temp, axis=1)\n",
        "    post_res_attn = np.zeros_like(ingram)\n",
        "    post_res_attn[:seq2idx, :seq2idx] = K1 @ ingram[:seq2idx, :seq2idx] @ K1.T\n",
        "    post_res_attn[seq2idx:, seq2idx:] = K2 @ ingram[seq2idx:, seq2idx:] @ K2.T\n",
        "    post_res_attn[:seq2idx, seq2idx:] = K1 @ ingram[:seq2idx, seq2idx:] @ K2.T\n",
        "    post_res_attn[seq2idx:, :seq2idx] = post_res_attn[:seq2idx, seq2idx:].T\n",
        "    # do layernorm\n",
        "    layer1 = getCor(post_res_attn)\n",
        "    # do fc layers\n",
        "    post_ffn = vw * VReLU(vw * layer1 + vb) + vb\n",
        "    # do layernorm again\n",
        "    layer2 = getCor(post_ffn + layer1)\n",
        "    return {'layer1': layer1, 'layer2': layer2}\n",
        "\n",
        "def th_trsfmr(ingram, seq2idx, depth, temp=1, vu=1, vw=1, vb=0):\n",
        "    r'''\n",
        "    Computes the kernel for a single-head transformer\n",
        "    running over 2 sequences\n",
        "    Inputs:\n",
        "        ingram: matrix.\n",
        "            The gram matrix for the tokens of the two sequences\n",
        "        seq2idx: the index such that\n",
        "            `ingram[:seq2idx, :seq2idx]` is the gram matrix\n",
        "             of the first sequence, and\n",
        "             `ingram[seq2idx:, seq2idx:]` is the gram matrix\n",
        "             of the second sequence.\n",
        "        depth: number of layers\n",
        "        temp: temperature for softmax\n",
        "        vu: variance of pre-attention weights\n",
        "        vw: variance of MLP weights\n",
        "        vb: variance of bias\n",
        "    Outputs:\n",
        "        the kernel of the same size as `ingram`\n",
        "        of the output tokens of the transformer\n",
        "    '''\n",
        "    for l in range(depth):\n",
        "        ingram = _trsfmr2(ingram, seq2idx,\n",
        "                          temp=temp, vu=vu, vw=vw, vb=vb)['layer2']\n",
        "    return ingram"
      ],
      "execution_count": 0,
      "outputs": []
    },
    {
      "cell_type": "markdown",
      "metadata": {
        "id": "DeybkO6wU4cY",
        "colab_type": "text"
      },
      "source": [
        "If we apply this function to the kernel of the GloVe embeddings we loaded from file, then we get"
      ]
    },
    {
      "cell_type": "code",
      "metadata": {
        "ExecuteTime": {
          "end_time": "2020-01-04T10:42:47.265987Z",
          "start_time": "2020-01-04T10:42:47.257983Z"
        },
        "id": "KbYI2qzKU4cY",
        "colab_type": "code",
        "colab": {}
      },
      "source": [
        "depth = 2\n",
        "vu = 2\n",
        "vw = 3\n",
        "vb = 0.1\n",
        "theoryker = th_trsfmr(exampleGloveCov, 7, depth=depth, vu=vu, vw=vw, vb=vb)"
      ],
      "execution_count": 0,
      "outputs": []
    },
    {
      "cell_type": "code",
      "metadata": {
        "ExecuteTime": {
          "end_time": "2020-01-04T10:42:48.108523Z",
          "start_time": "2020-01-04T10:42:47.268987Z"
        },
        "id": "sVh9KPX8U4cb",
        "colab_type": "code",
        "outputId": "a645000c-18ab-4722-c21f-4ac398de3072",
        "colab": {
          "base_uri": "https://localhost:8080/",
          "height": 551
        }
      },
      "source": [
        "from utils import getCor, colorbar\n",
        "\n",
        "plt.figure(figsize=(8, 8))\n",
        "\n",
        "plt.subplot(221)\n",
        "ax = plt.gca()\n",
        "im_thcov = plt.imshow(theoryker, cmap='PuBu_r')\n",
        "span = np.linspace(-.5, 15.5)\n",
        "plt.plot(span, [6.5]*len(span), 'r')\n",
        "plt.plot([6.5]*len(span), span, 'r')\n",
        "plt.yticks(np.arange(16), sent1+sent2)\n",
        "plt.xticks([])\n",
        "plt.title('Transformer covariances (theory)')\n",
        "plt.ylabel('sent2                       sent1')\n",
        "plt.grid()\n",
        "colorbar(im_thcov)\n",
        "\n",
        "plt.subplot(222)\n",
        "ax = plt.gca()\n",
        "im_thcor = plt.imshow(getCor(theoryker), cmap='viridis')\n",
        "span = np.linspace(-.5, 15.5)\n",
        "plt.plot(span, [6.5]*len(span), 'r')\n",
        "plt.plot([6.5]*len(span), span, 'r')\n",
        "plt.yticks([])\n",
        "plt.xticks([])\n",
        "plt.title('Transformer correlations (theory)')\n",
        "# plt.colorbar()\n",
        "plt.grid()\n",
        "colorbar(im_thcor)\n",
        "\n",
        "\n",
        "plt.subplot(223)\n",
        "ax = plt.gca()\n",
        "im_glove = plt.imshow(exampleGloveCov, cmap='PuBu_r')\n",
        "span = np.linspace(-.5, 15.5)\n",
        "plt.plot(span, [6.5]*len(span), 'r')\n",
        "plt.plot([6.5]*len(span), span, 'r')\n",
        "plt.yticks(np.arange(16), sent1+sent2)\n",
        "plt.xticks(np.arange(16), sent1+sent2, rotation=90)\n",
        "plt.title('GloVe covariances')\n",
        "plt.xlabel('sent1                       sent2')\n",
        "plt.ylabel('sent2                       sent1')\n",
        "plt.grid()\n",
        "colorbar(im_glove)\n",
        "\n",
        "plt.subplot(224)\n",
        "ax = plt.gca()\n",
        "im_glovecor = plt.imshow(getCor(exampleGloveCov), cmap='viridis')\n",
        "span = np.linspace(-.5, 15.5)\n",
        "plt.plot(span, [6.5]*len(span), 'r')\n",
        "plt.plot([6.5]*len(span), span, 'r')\n",
        "plt.yticks([])\n",
        "plt.xticks(np.arange(16), sent1+sent2, rotation=90)\n",
        "plt.title('GloVe correlations')\n",
        "plt.xlabel('sent1                       sent2')\n",
        "plt.grid()\n",
        "colorbar(im_glovecor)\n",
        "\n",
        "plt.tight_layout()"
      ],
      "execution_count": 0,
      "outputs": [
        {
          "output_type": "display_data",
          "data": {
            "image/png": "[encoded data removed]",
            "text/plain": [
              "<Figure size 576x576 with 8 Axes>"
            ]
          },
          "metadata": {
            "tags": []
          }
        }
      ]
    },
    {
      "cell_type": "code",
      "metadata": {
        "ExecuteTime": {
          "end_time": "2020-01-04T10:42:48.118541Z",
          "start_time": "2020-01-04T10:42:48.110529Z"
        },
        "id": "v0I0gTH1U4ce",
        "colab_type": "code",
        "colab": {}
      },
      "source": [
        "with open('transformer2layer.kernel', 'wb') as f:\n",
        "    np.save(f, theoryker)"
      ],
      "execution_count": 0,
      "outputs": []
    },
    {
      "cell_type": "markdown",
      "metadata": {
        "id": "8AQAmzK2U4cf",
        "colab_type": "text"
      },
      "source": [
        "# Verify Theory with Simulations"
      ]
    },
    {
      "cell_type": "markdown",
      "metadata": {
        "id": "7izeIQVAU4cg",
        "colab_type": "text"
      },
      "source": [
        "We randomly initialize 100 transformers for each width among $[2^5, 2^6, \\ldots, 2^{13}]$ and run them on the two sentences above.\n",
        "We calculate the empirical Gram matrix of the transformer embeddings as well as its Frobenius distance to the infinite-width theoretical kernel `theoryker`."
      ]
    },
    {
      "cell_type": "code",
      "metadata": {
        "ExecuteTime": {
          "end_time": "2020-01-04T10:43:13.364867Z",
          "start_time": "2020-01-04T10:42:48.120056Z"
        },
        "id": "hF_7wdyNU4cg",
        "colab_type": "code",
        "colab": {}
      },
      "source": [
        "widths = [2**i for i in range(5, 13)]\n",
        "frobs = []\n",
        "for d_h in widths:\n",
        "    mytrfmr = Transformer(d_h, 300, depth=depth, vu=vu, vw=vw, vb=vb)\n",
        "    for _ in range(10):\n",
        "        mytrfmr.randomize()\n",
        "        outvecs1 = mytrfmr(exampleGloveVecs[:7])\n",
        "        outvecs2 = mytrfmr(exampleGloveVecs[7:])\n",
        "        outvecs = np.concatenate([outvecs1, outvecs2])\n",
        "        outgram = outvecs @ outvecs.T / outvecs.shape[1]\n",
        "        diff = outgram - theoryker\n",
        "        frobs.append({\n",
        "            \"absfrob\": np.linalg.norm(diff)**2,\n",
        "            \"relfrob\": (np.linalg.norm(diff) / np.linalg.norm(theoryker))**2,\n",
        "            \"width\": d_h\n",
        "        })"
      ],
      "execution_count": 0,
      "outputs": []
    },
    {
      "cell_type": "markdown",
      "metadata": {
        "id": "qkr0ZnWUU4ci",
        "colab_type": "text"
      },
      "source": [
        "We store the results in a dataframe `frob_df`."
      ]
    },
    {
      "cell_type": "code",
      "metadata": {
        "ExecuteTime": {
          "end_time": "2020-01-04T10:43:13.374867Z",
          "start_time": "2020-01-04T10:43:13.367868Z"
        },
        "id": "DJ0xrCo-U4ci",
        "colab_type": "code",
        "colab": {}
      },
      "source": [
        "frob_df = pd.DataFrame(frobs)"
      ],
      "execution_count": 0,
      "outputs": []
    },
    {
      "cell_type": "code",
      "metadata": {
        "ExecuteTime": {
          "end_time": "2020-01-04T10:43:13.405865Z",
          "start_time": "2020-01-04T10:43:13.376866Z"
        },
        "id": "-aV0Uj4iU4ck",
        "colab_type": "code",
        "colab": {}
      },
      "source": [
        "frob_df.to_pickle('transformer2layer.df')"
      ],
      "execution_count": 0,
      "outputs": []
    },
    {
      "cell_type": "markdown",
      "metadata": {
        "id": "wdcwDtmBU4cm",
        "colab_type": "text"
      },
      "source": [
        "The deviation from infinite-width theory drops with width, as expected."
      ]
    },
    {
      "cell_type": "code",
      "metadata": {
        "ExecuteTime": {
          "end_time": "2020-01-04T10:43:14.123865Z",
          "start_time": "2020-01-04T10:43:13.406867Z"
        },
        "id": "O6SJCsssU4cm",
        "colab_type": "code",
        "outputId": "6bf3cfd0-58cc-4129-bc25-161a526fc391",
        "colab": {
          "base_uri": "https://localhost:8080/",
          "height": 301
        }
      },
      "source": [
        "sns.boxplot(x='width', y='relfrob', data=frob_df)\n",
        "plt.semilogy()\n",
        "# plt.legend()\n",
        "plt.title('Deviation From Infinite-width Theory')\n",
        "_ = plt.ylabel(u'Relative Squared Frob. Norm\\n $\\|K_{\\infty} - K_{width}\\|_F^2/\\|K_{\\infty}\\|_F^2$')"
      ],
      "execution_count": 0,
      "outputs": [
        {
          "output_type": "display_data",
          "data": {
            "image/png": "[encoded data removed]",
            "text/plain": [
              "<Figure size 432x288 with 1 Axes>"
            ]
          },
          "metadata": {
            "tags": []
          }
        }
      ]
    },
    {
      "cell_type": "code",
      "metadata": {
        "ExecuteTime": {
          "end_time": "2020-01-04T10:43:14.571866Z",
          "start_time": "2020-01-04T10:43:14.124865Z"
        },
        "id": "TO7a-sxBU4cp",
        "colab_type": "code",
        "outputId": "a6bba2b7-9b0a-441c-919f-683e1a3a8b65",
        "colab": {
          "base_uri": "https://localhost:8080/"
        }
      },
      "source": [
        "frob_df.groupby('width', as_index=False).mean().plot.line(x='width', y='relfrob')\n",
        "plt.plot(widths, np.array(widths, dtype='float')**-1, '--', label=u'${width}^{-1}$')\n",
        "plt.ylabel(u'Mean Relative Squared Frob. Norm\\n $\\|K_{\\infty} - K_{width}\\|_F^2/\\|K_{\\infty}\\|_F^2$')\n",
        "plt.loglog()\n",
        "plt.legend()\n",
        "_ = plt.title(u'Deviation from Theory in (Frobenius norm)$^2$ drops like $width^{-1}$')"
      ],
      "execution_count": 0,
      "outputs": [
        {
          "output_type": "display_data",
          "data": {
            "image/png": "[encoded data removed]",
            "text/plain": [
              "<Figure size 432x288 with 1 Axes>"
            ]
          },
          "metadata": {
            "tags": []
          }
        }
      ]
    }
  ]
}