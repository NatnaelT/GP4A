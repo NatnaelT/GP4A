{
  "nbformat": 4,
  "nbformat_minor": 0,
  "metadata": {
    "kernelspec": {
      "display_name": "Python 3",
      "language": "python",
      "name": "python3"
    },
    "language_info": {
      "codemirror_mode": {
        "name": "ipython",
        "version": 3
      },
      "file_extension": ".py",
      "mimetype": "text/x-python",
      "name": "python",
      "nbconvert_exporter": "python",
      "pygments_lexer": "ipython3",
      "version": "3.7.3"
    },
    "notify_time": "5",
    "toc": {
      "base_numbering": 1,
      "nav_menu": {},
      "number_sections": true,
      "sideBar": true,
      "skip_h1_title": false,
      "title_cell": "Table of Contents",
      "title_sidebar": "Contents",
      "toc_cell": false,
      "toc_position": {},
      "toc_section_display": true,
      "toc_window_display": false
    },
    "colab": {
      "name": "GRU.ipynb",
      "provenance": []
    }
  },
  "cells": [
    {
      "cell_type": "markdown",
      "metadata": {
        "id": "5wyAmZnZWmm9",
        "colab_type": "text"
      },
      "source": [
        "This notebook computes the infinite-width GP kernel for a GRU.\n",
        "The code runs as is, and we summarize the formula of the kernel in markdown cells, but the reader should take a look at the derivation in the paper to get the full picture.\n",
        "We recommend the reader to have gone through [the RNN notebook](RNN.ipynb) first."
      ]
    },
    {
      "cell_type": "markdown",
      "metadata": {
        "id": "RVVM-jixWmnB",
        "colab_type": "text"
      },
      "source": [
        "# Setup"
      ]
    },
    {
      "cell_type": "markdown",
      "metadata": {
        "id": "Ipt-1Z1wWmnC",
        "colab_type": "text"
      },
      "source": [
        "Software Prerequisite:\n",
        "\n",
        "- R\n",
        "- R package `mvtnorm`\n",
        "- `rpy2` python package\n",
        "- pandas\n",
        "\n",
        "In this notebook, we use an R package `mvtnorm` to compute certain high dimensional Gaussian expectations very efficiently."
      ]
    },
    {
      "cell_type": "code",
      "metadata": {
        "id": "tESTIqC1XW1I",
        "colab_type": "code",
        "colab": {}
      },
      "source": [
        "!R -e 'install.packages(\"mvtnorm\")' &> /dev/null"
      ],
      "execution_count": 0,
      "outputs": []
    },
    {
      "cell_type": "code",
      "metadata": {
        "id": "timfpO_AWykH",
        "colab_type": "code",
        "colab": {
          "base_uri": "https://localhost:8080/",
          "height": 34
        },
        "outputId": "48c2857f-89ef-447b-e24d-cea62eacace4"
      },
      "source": [
        "!git clone -q https://github.com/thegregyang/GP4A\n",
        "%cd GP4A/"
      ],
      "execution_count": 13,
      "outputs": [
        {
          "output_type": "stream",
          "text": [
            "/content/GP4A\n"
          ],
          "name": "stdout"
        }
      ]
    },
    {
      "cell_type": "code",
      "metadata": {
        "ExecuteTime": {
          "end_time": "2020-01-02T11:57:19.733839Z",
          "start_time": "2020-01-02T11:57:00.487075Z"
        },
        "id": "RVyfBN24WmnF",
        "colab_type": "code",
        "colab": {}
      },
      "source": [
        "import rpy2\n",
        "import numpy as np\n",
        "import rpy2.robjects as robjects\n",
        "from rpy2.robjects.packages import importr\n",
        "from rpy2.robjects import FloatVector as FV\n",
        "from numpy import asarray as npa\n",
        "import numbers\n",
        "import pandas as pd\n",
        "import seaborn as sns\n",
        "sns.set()\n",
        "mvtnorm = importr('mvtnorm')\n",
        "from rpy2.robjects import numpy2ri\n",
        "numpy2ri.activate()\n",
        "import matplotlib.pyplot as plt"
      ],
      "execution_count": 0,
      "outputs": []
    },
    {
      "cell_type": "code",
      "metadata": {
        "ExecuteTime": {
          "end_time": "2020-01-02T11:57:22.739656Z",
          "start_time": "2020-01-02T11:57:19.737839Z"
        },
        "id": "ue1boZ5sWmnJ",
        "colab_type": "code",
        "colab": {}
      },
      "source": [
        "from GRUtheory import *\n",
        "from GRUsim import *"
      ],
      "execution_count": 0,
      "outputs": []
    },
    {
      "cell_type": "code",
      "metadata": {
        "ExecuteTime": {
          "end_time": "2020-01-02T11:57:22.757696Z",
          "start_time": "2020-01-02T11:57:22.747645Z"
        },
        "id": "SJhmlFbtWmnM",
        "colab_type": "code",
        "colab": {}
      },
      "source": [
        "npa = np.asarray\n",
        "randn = np.random.randn"
      ],
      "execution_count": 0,
      "outputs": []
    },
    {
      "cell_type": "markdown",
      "metadata": {
        "id": "bMRLcS8kWmnO",
        "colab_type": "text"
      },
      "source": [
        "Load the GloVe vectors and their covariances that we have saved.\n",
        "They were generated from the two sentences\n",
        "\n",
        "```The brown fox jumps over the dog.```\n",
        "\n",
        "```The quick brown fox jumps over the lazy dog.```\n",
        "\n",
        "Concretely, `exampleGloveVecs[:7]` contains the GloVe embeddings of the first sentence, and `exampleGloveVecs[7:16]` contains those of the second sentence.\n",
        "\n",
        "Likewise, `exampleGloveCov` is a 16x16 matrix, such that `exampleGloveCov[:7, :7]` gives the autocovariance of the GloVe embeddings of the first sentence, `exampleGloveCov[7:, 7:]` gives that of the second sentence, and `exampleGloveCov[:7, 7:]` gives the covariance between those of the first and those of the second sentence."
      ]
    },
    {
      "cell_type": "code",
      "metadata": {
        "ExecuteTime": {
          "end_time": "2020-01-02T11:57:22.777768Z",
          "start_time": "2020-01-02T11:57:22.766645Z"
        },
        "id": "eghtlNVxWmnP",
        "colab_type": "code",
        "colab": {}
      },
      "source": [
        "sent1 = \"The brown fox jumps over the dog\".split()\n",
        "sent2 = \"The quick brown fox jumps over the lazy dog\".split()"
      ],
      "execution_count": 0,
      "outputs": []
    },
    {
      "cell_type": "code",
      "metadata": {
        "ExecuteTime": {
          "end_time": "2020-01-02T11:57:22.919647Z",
          "start_time": "2020-01-02T11:57:22.785627Z"
        },
        "id": "W7EYKre4WmnV",
        "colab_type": "code",
        "colab": {}
      },
      "source": [
        "with open('ExampleGloVeVecs.npy', 'rb') as f:\n",
        "    exampleGloveVecs = np.load(f)\n",
        "with open('ExampleGloVeCov.npy', 'rb') as f:\n",
        "    exampleGloveCov = np.load(f)"
      ],
      "execution_count": 0,
      "outputs": []
    },
    {
      "cell_type": "markdown",
      "metadata": {
        "id": "exPFt9gpWmnZ",
        "colab_type": "text"
      },
      "source": [
        "# GRU"
      ]
    },
    {
      "cell_type": "markdown",
      "metadata": {
        "id": "lHWYOQh_WmnZ",
        "colab_type": "text"
      },
      "source": [
        "The GRU we will study evolves according to the equations\n",
        "$$\\begin{align*}\n",
        "    \\tilde z^t &= U^z x^t + W^z h^{t-1} + b^z\\\\\n",
        "    z^t &= \\sigma(\\tilde z^t)\\\\\n",
        "    \\tilde r^t &= U^r x^t + W^r h^{t-1} + b^r\\\\\n",
        "    r^t &= \\sigma(\\tilde r^t)\\\\\n",
        "    \\tilde h^t &= U^h x^t + W^h(h^{t-1} \\odot r^t) + b^h\\\\\n",
        "    h^t &= (1 - z^t) \\odot h^{t-1} + z^t \\odot \\phi(\\tilde h^t)\n",
        "\\end{align*}$$\n",
        "\n",
        "where\n",
        "    \n",
        "- $h^t$ is state at time $t$\n",
        "- $\\phi(\\tilde h^t)$ is the \"proposed update\" at time $t$\n",
        "- $x^t$ is input at time $t$\n",
        "- $z^t \\in [0, 1]$ is \"update gate\":\n",
        "    - 1 means do update/forget previous $h^{t-1}$\n",
        "    - 0 means $h^t = h^{t-1}$\n",
        "- $r^t \\in [0, 1]$ is \"reset gate\":\n",
        "    - the smaller, the easier to make proposed update not depend on $h^{t-1}$\n",
        "- $U^z, U^r, U^h$ are weights converting input to hidden states\n",
        "- $W^z, W^r, W^h$ are weights converting state to state\n",
        "- $b^z, b^r, b^h$ are biases    \n",
        "- $\\phi(x) = \\mathrm{erf}(x)$\n",
        "- $\\sigma(x) = (1 + \\mathrm{erf}(x)) / 2$\n",
        "        "
      ]
    },
    {
      "cell_type": "markdown",
      "metadata": {
        "id": "MwHUOAh8Wmna",
        "colab_type": "text"
      },
      "source": [
        "# Theory: Infinite-Width Kernel of GRU Embeddings"
      ]
    },
    {
      "cell_type": "markdown",
      "metadata": {
        "id": "3oAkTJk9Wmnb",
        "colab_type": "text"
      },
      "source": [
        "Suppose we sample the parameters of the GRU as follows\n",
        "\n",
        "- $U^z_{\\alpha \\beta}, U^r_{\\alpha \\beta}, U^h_{\\alpha \\beta} \\sim \\mathcal{N}(0, \\sigma_U^2/n)$\n",
        "- $W^z_{\\alpha\\beta}, W^r_{\\alpha\\beta}, W^h_{\\alpha\\beta} \\sim \\mathcal{N}(0, \\sigma_W^2/n)$\n",
        "- $b^z_\\alpha, b^r_\\alpha, b^h_\\alpha \\sim \\mathcal{N}(0, \\sigma_b^2), v_\\alpha \\sim \\mathcal{N}(0, \\sigma_v^2)$\n",
        "- the initial state $h^0 = 0$.\n",
        "\n",
        "In this section, we seek to describe how the infinite-width limit GP kernel of a GRU can be computed, but please see the paper for how the derivation goes."
      ]
    },
    {
      "cell_type": "markdown",
      "metadata": {
        "id": "KdUYkOVAWmnc",
        "colab_type": "text"
      },
      "source": [
        "The *NETSOR Master Theorem* (see paper for precise statement) tells us that, roughly speaking, the \"preactivations\" $$\\tilde z^t, \\tilde r^t, \\tilde h^t, U^z x^t, U^r x^t, U^h x^t, W^z h^{t-1}, W^r h^{t-1}, W^h(h^{t-1} \\odot r^t)$$ all have have coordinate slices that are jointly Gaussian, in the large $n$ limit, i.e. for each $\\alpha$, \n",
        "$$\\{\\tilde z^t_\\alpha, \\tilde r^t_\\alpha, \\tilde h^t_\\alpha, (U^z x^t)_\\alpha, (U^r x^t)_\\alpha, (U^h x^t)_\\alpha, (W^z h^{t-1})_\\alpha, (W^r h^{t-1})_\\alpha, (W^h(h^{t-1} \\odot r^t))_\\alpha\\}_{t=1}^T$$ can be intuitively thought of as being distributed as $\\mathcal N(\\mu, \\Sigma)$ for some mean $\\mu$ and kernel $\\Sigma$.\n",
        "\n",
        "Below, we will use $\\mu(\\tilde z^t)$ to denote the mean of $\\tilde z^t_\\alpha$, and similarly for other preactivations.\n",
        "Likewise, we will use $\\Sigma(\\tilde z^t, \\tilde r^s)$ to denote the covariance between $\\tilde z^t_\\alpha$ and $\\tilde r^t_\\alpha$, and similarly for other pairs of preactivations."
      ]
    },
    {
      "cell_type": "markdown",
      "metadata": {
        "id": "7CylD7GUWmnd",
        "colab_type": "text"
      },
      "source": [
        "## Main Recursive Formula"
      ]
    },
    {
      "cell_type": "markdown",
      "metadata": {
        "id": "wjGnO1BmWmnd",
        "colab_type": "text"
      },
      "source": [
        "Applying the *NETSOR Master Theorem* yields $\\mu = 0$ identically, and, for any two times $t, s$,\n",
        "$$\\begin{align*}\n",
        "\\Sigma(\\tilde z^t, \\tilde z^s)\n",
        "    &=\n",
        "        \\sigma_{U}^2 \\langle x^t, x^s \\rangle/m + \\Sigma(W^z h^{t-1}, W^z h^{s-1}) + \\sigma_b^2\n",
        "        \\\\\n",
        "\\Sigma(\\tilde r^t, \\tilde r^s)\n",
        "    &=\n",
        "        \\sigma_U^2 \\langle x^t, x^s \\rangle/m + \\Sigma(W^r h^{t-1}, W^r h^{s-1}) + \\sigma_b^2\n",
        "        \\\\\n",
        "\\Sigma(\\tilde h^t, \\tilde h^s)\n",
        "    &=\n",
        "        \\sigma_U^2 \\langle x^t, x^s \\rangle/m + \\Sigma(W^h (h^{t-1} \\odot r^t), W^h (h^{s-1} \\odot r^s)) + \\sigma_b^2\n",
        "        \\\\\n",
        "\\Sigma(W^z h^{t}, W^z h^{s})\n",
        "    &= \\Sigma(W^r h^{t}, W^r h^{s})\\\\\n",
        "    &=\n",
        "        \\sigma_W^2 \\sum_{i=1}^t \\sum_{j=1}^s \\bigg\\{\n",
        "        \\operatorname*{\\mathbb{E}} \\phi\\left(Z^{\\tilde h^i}\\right)\\phi\\left(Z^{\\tilde h^j}\\right)\n",
        "        \\\\\n",
        "    &\\phantom{{}={}}\\quad\n",
        "        \\times \n",
        "            \\operatorname*{\\mathbb{E}} \n",
        "            \\left[\\sigma\\left(Z^{\\tilde z^i}\\right) \\prod_{\\bar i = i+1}^t \\left(1 - \\sigma\\left(Z^{\\tilde z^{\\bar i}}\\right)\\right)\\right]\n",
        "            \\times \\left[\n",
        "            \\sigma\\left(Z^{\\tilde z^j}\\right) \\prod_{\\bar j = j+1}^t \\left(1 - \\sigma\\left(Z^{\\tilde z^{\\bar j}}\\right)\\right)\\right]\n",
        "            \\bigg\\}\n",
        "            \\\\\n",
        "\\Sigma\\left(W^h (h^{t-1} \\odot r^t), W^h (h^{s-1} \\odot r^s)\\right)\n",
        "    &=\n",
        "        \\sigma_W^2 \\Sigma(W^z h^{t-1}, W^z h^{s-1}) \\operatorname*{\\mathbb{E}} \\sigma\\left(Z^{\\tilde r^t}\\right)\\sigma\\left(Z^{\\tilde r^s}\\right)\n",
        "\\end{align*}$$\n",
        "where expectations are taken over $Z \\sim \\mathcal{N}(\\mu, \\Sigma)$, which has one component for each preactivation (so that $\\mathrm{Covariance}(Z^{\\tilde z^i}, Z^{\\tilde h^i}) = \\Sigma(\\tilde z^i, \\tilde h^i)$, and similarly for other pairs of preactivations)."
      ]
    },
    {
      "cell_type": "markdown",
      "metadata": {
        "id": "i1AwZQqbWmne",
        "colab_type": "text"
      },
      "source": [
        "## Simplifications with Erf-Based Nonlinearities"
      ]
    },
    {
      "cell_type": "markdown",
      "metadata": {
        "id": "HA2JZNEjWmnf",
        "colab_type": "text"
      },
      "source": [
        "If we replace $\\phi$ with $\\mathrm{erf}$ and $\\sigma$ with $(1 + \\mathrm{erf})/2$, then according to Neal (1994),\n",
        "$$\\begin{align*}\n",
        "\\operatorname*{\\mathbb{E}} \\mathrm{erf}\\left(Z^{\\tilde h^i}\\right) \\mathrm{erf}\\left(Z^{\\tilde h^j}\\right) = \\frac 2 \\pi \\arcsin \\frac{2\\Sigma(\\tilde h^i, \\tilde h^j)}\n",
        "{\\sqrt{(2\\Sigma(\\tilde h^i, \\tilde h^i)+1)(2\\Sigma(\\tilde h^j, \\tilde h^j)+1)}}.\n",
        "\\end{align*}$$"
      ]
    },
    {
      "cell_type": "markdown",
      "metadata": {
        "id": "AMjudQjbWmnf",
        "colab_type": "text"
      },
      "source": [
        "It turns out this can be generalized to higher dimensions: For any mean $m$ and covariance $K$, \n",
        "$$\\operatorname*{\\mathbb{E}}_{Y \\sim \\mathcal{N}(m, K)} \\prod_{i=1} \\sigma(Y_i)\n",
        "=\n",
        "    \\operatorname*{\\mathbb{E}}_{Y \\sim \\mathcal{N}(m, K)} \\prod_{i=1} \\frac{1 + \\mathrm{erf}(Y_i)}{2}\n",
        "=\n",
        "    \\operatorname*{\\mathbb{E}}_{X \\sim \\mathcal{N}(m, K + \\frac 1 2 I)} \\mathbb{I}(\\forall i, X_i \\ge 0).$$\n",
        "See our paper for a derivation of this fact.\n",
        "The RHS is called *Gaussian orthant probability* and can be evaluated quickly via the `R` package `mvtnorm`."
      ]
    },
    {
      "cell_type": "markdown",
      "metadata": {
        "id": "WAE_WYGBWmnh",
        "colab_type": "text"
      },
      "source": [
        "Using this fact,\n",
        "$$\\operatorname*{\\mathbb{E}}\\sigma(Z^{\\tilde r^t}) \\sigma(Z^{\\tilde r^s})\n",
        "= \\operatorname*{\\mathbb{E}}_{X \\sim \\mathcal{N}(m, \\frac 1 2 I + K)}\n",
        "    \\mathbb{I}(X_1 \\ge 0 \\text{ and } X_2 \\ge 0)$$\n",
        "where $m = (\\mu(\\tilde r^t), \\mu(\\tilde r^s))$ and\n",
        "$K = \\begin{pmatrix}\n",
        "    \\Sigma(\\tilde r^t, \\tilde r^t) & \\Sigma(\\tilde r^t, \\tilde r^s)\\\\\n",
        "    \\Sigma(\\tilde r^s, \\tilde r^t) & \\Sigma(\\tilde r^s, \\tilde r^s)\n",
        "    \\end{pmatrix}$.\n",
        "Similarly,\n",
        "$$\\begin{align*}\n",
        "    &\\phantom{{}={}}\\operatorname*{\\mathbb{E}} \n",
        "            \\left[\\sigma(Z^{\\tilde z^i}) \\prod_{\\bar i = i+1}^t (1 - \\sigma(Z^{\\tilde z^{\\bar i}}))\\right]\n",
        "            \\times \\left[\n",
        "            \\sigma(Z^{\\tilde z^j}) \\prod_{\\bar j = j+1}^t (1 - \\sigma(Z^{\\tilde z^{\\bar j}}))\\right]\n",
        "            \\\\\n",
        "    &=\n",
        "            \\left[\\sigma(Z^{\\tilde z^i}) \\prod_{\\bar i = i+1}^t  \\sigma(-Z^{\\tilde z^{\\bar i}})\\right]\n",
        "            \\times \\left[\n",
        "            \\sigma(Z^{\\tilde z^j}) \\prod_{\\bar j = j+1}^t \\sigma(-Z^{\\tilde z^{\\bar j}})\\right]\n",
        "            \\\\\n",
        "    &=\n",
        "    \\operatorname*{\\mathbb{E}}_{X \\sim \\mathcal{N}(m, K + \\frac 1 2 I)} \n",
        "        \\mathbb{I}(\\forall i, X_i \\ge 0)\n",
        "\\end{align*}$$\n",
        "where $X$ has dimension $(t-i+1) + (s-j+1)$ and $m$ and $K$ are the mean and the covariances of the joint distribution of $(Z^{\\tilde z^i}, -Z^{\\tilde z^{i+1}}, \\ldots, -Z^{\\tilde z^{t}}, Z^{\\tilde z^{j}}, -Z^{\\tilde z^{j+1}}, \\ldots, -Z^{\\tilde z^{s}})$ (so $\\Sigma$ can possibly be singular if some of these variables are the same or negatives of each other)."
      ]
    },
    {
      "cell_type": "markdown",
      "metadata": {
        "id": "XzLOU5fjWmnj",
        "colab_type": "text"
      },
      "source": [
        "The following functions implement different versions of the above expectation."
      ]
    },
    {
      "cell_type": "code",
      "metadata": {
        "ExecuteTime": {
          "end_time": "2020-01-02T11:57:23.012649Z",
          "start_time": "2020-01-02T11:57:22.926612Z"
        },
        "id": "0w77B2g7Wmnl",
        "colab_type": "code",
        "colab": {}
      },
      "source": [
        "import rpy2\n",
        "import numpy as np\n",
        "import rpy2.robjects as robjects\n",
        "from rpy2.robjects.packages import importr\n",
        "from rpy2.robjects import FloatVector as FV\n",
        "from rpy2.robjects import numpy2ri\n",
        "numpy2ri.activate()\n",
        "from numpy import asarray as npa\n",
        "import numbers\n",
        "\n",
        "mvtnorm = importr('mvtnorm')\n",
        "r'''\n",
        "We require the R package `mvtnorm` to compute certain high dimensional expectations\n",
        "involving erfs, by reducing such expectations to Gaussian orthant probabilities\n",
        "and evaluating them with `mvtnorm`.\n",
        "'''\n",
        "def Eerf2(mu, var):\n",
        "    r'''\n",
        "    Computes\n",
        "        E[erf(x)^2: x ~ N(mu, var)]\n",
        "    when mu and var are scalars, or\n",
        "        E[erf(x) erf(y): (x, y) ~ N(mu, var)]\n",
        "    when mu is a length-2 vector and var is a 2x2 matrix\n",
        "    Example:\n",
        "        >>> Eerf2([0, 0], [[1, 1], [1, 1]])\n",
        "        0.4645590543975399\n",
        "        \n",
        "    Inputs:\n",
        "        mu: scalar or length-2 vector\n",
        "        var: scalar, or 2x2 matrix\n",
        "    Outputs:\n",
        "        Gaussian expectation as explained above\n",
        "    '''\n",
        "    scalar = False\n",
        "    if isinstance(var, numbers.Number) or \\\n",
        "            isinstance(var, np.ndarray) and var.size == 1:\n",
        "        mean = FV([mu, mu])\n",
        "        var = np.array([var] * 4).reshape(2, 2) + 0.5 * np.eye(2)\n",
        "        scalar = True\n",
        "    else:\n",
        "        mean = FV(mu)\n",
        "        var = np.asarray(var + 0.5 * np.eye(2))\n",
        "    ppprob = npa(mvtnorm.pmvnorm(lower=FV(np.zeros(2)), mean=mean, sigma=var))\n",
        "    pnprob = npa(mvtnorm.pmvnorm(lower=FV(np.array([0, -np.inf])),\n",
        "                           upper=FV(np.array([np.inf, 0])),\n",
        "                           mean=mean, sigma=var))\n",
        "    if scalar:\n",
        "        npprob = pnprob\n",
        "    else:\n",
        "        npprob = npa(mvtnorm.pmvnorm(lower=FV(np.array([-np.inf, 0])),\n",
        "                               upper=FV(np.array([0, np.inf])),\n",
        "                               mean=mean, sigma=var))\n",
        "    nnprob = npa(mvtnorm.pmvnorm(lower=FV(np.array([-np.inf, -np.inf])),\n",
        "                           upper=FV(np.array([0, 0])),\n",
        "                           mean=mean, sigma=var))\n",
        "    return (ppprob + nnprob - pnprob - npprob)[0]\n",
        "    \n",
        "def Esigmoidprod(signs, mu, cov):\n",
        "    r'''\n",
        "    Computes\n",
        "        E[prod_i sigmoid(sgn_i * x_i): (x_i)_i ~ N(mu, cov)]\n",
        "    where\n",
        "        sigmoid(x) = 0.5 (1 + erf(x))\n",
        "        sgn_i = `signs`[i]\n",
        "    Inputs:\n",
        "        signs: a vector of +/-1\n",
        "        mu: vector of means\n",
        "        cov: matrix of covariances\n",
        "    '''\n",
        "    cov = npa(cov)\n",
        "    signs = npa(signs)\n",
        "    mu = npa(mu)\n",
        "    cov = signs[:, None] * cov * signs[None, :] + 0.5 * np.eye(cov.shape[0])\n",
        "    mu *= signs\n",
        "    return npa(mvtnorm.pmvnorm(lower=FV(np.zeros_like(mu)),\n",
        "                           mean=FV(mu),\n",
        "                           sigma=cov))[0]\n",
        "def Esigmoid2prod(signs1, signs2, mu, cov):\n",
        "    r'''\n",
        "    Computes\n",
        "        E[(prod_i s_i s'_i): (x_i)_i ~ N(mu, cov)]\n",
        "    where\n",
        "        s_i = 1 if `signs1[i] == 0` or else sigmoid(`signs1[i]` * x_i)\n",
        "        s'_i = 1 if `signs2[i] == 0` or else sigmoid(`signs2[i]` * x_i)\n",
        "        sigmoid(x) = 0.5 (1 + erf(x))\n",
        "        sgn_i = `signs`[i]\n",
        "    Inputs:\n",
        "        signs1: a vector with entries from {-1, 0, 1}\n",
        "        signs2: a vector with entries from {-1, 0, 1}\n",
        "    '''\n",
        "    # the lazy way:\n",
        "    # duplicate cov to reduce to the case with no repeat variables.\n",
        "    signs1 = npa(signs1)\n",
        "    signs2 = npa(signs2)\n",
        "    mu = npa(mu)\n",
        "    cov = npa(cov)\n",
        "    n = cov.shape[0]\n",
        "    newcov = np.zeros([2 * n , 2 * n])\n",
        "    newcov[:n, :n] = newcov[:n, n:] = newcov[n:, :n] = newcov[n:, n:] = cov\n",
        "    newmu = np.concatenate([mu, mu], axis=0)\n",
        "    signs = np.concatenate([signs1, signs2], axis=0)\n",
        "    zero_idx = set(np.argwhere(signs==0).reshape(-1))\n",
        "    nonzero_idx = list(set(list(range(0, 2*n))) - zero_idx)\n",
        "    signs = signs[nonzero_idx]\n",
        "    newmu = newmu[nonzero_idx]\n",
        "    newcov = newcov[nonzero_idx, :][:, nonzero_idx]\n",
        "    return Esigmoidprod(signs, newmu, newcov)"
      ],
      "execution_count": 0,
      "outputs": []
    },
    {
      "cell_type": "markdown",
      "metadata": {
        "id": "mTPLXFFpWmno",
        "colab_type": "text"
      },
      "source": [
        "## Implementing the Recursive Kernel Formula"
      ]
    },
    {
      "cell_type": "markdown",
      "metadata": {
        "id": "a2IV1nCGWmnp",
        "colab_type": "text"
      },
      "source": [
        "A similar recursive formula holds for computing the kernel over multiple input sequences."
      ]
    },
    {
      "cell_type": "markdown",
      "metadata": {
        "id": "5RDPkI6qWmnr",
        "colab_type": "text"
      },
      "source": [
        "The functions `thgru` and `thgru2` below (also from `GRUtheory`) computes $\\Sigma$ above respectively for one sequence and for two sequences."
      ]
    },
    {
      "cell_type": "code",
      "metadata": {
        "ExecuteTime": {
          "end_time": "2020-01-02T11:57:23.153678Z",
          "start_time": "2020-01-02T11:57:23.017597Z"
        },
        "id": "rDH8_qw-Wmnr",
        "colab_type": "code",
        "colab": {}
      },
      "source": [
        "def thgru(ingram, varUz=1, varUr=1, varUh=1,\n",
        "          varWz=1, varWr=1, varWh=1,\n",
        "          varbz=1, varbr=1, varbh=1,\n",
        "          mubz=0, mubr=0, mubh=0):\n",
        "    r'''\n",
        "    Computes the infinite-width GP kernel of an erf-GRU over an input sequence\n",
        "    with covariance `ingram`.\n",
        "    An erf-GRU evolves according to the equations\n",
        "    \n",
        "        \\tilde z^t = U_z x^t + W_z h^{t-1} + b_z\n",
        "        z^t = sigmoid(\\tilde z^t)\n",
        "        \\tilde r^t = U_r x^t + W_r h^{t-1} + b_r\n",
        "        r^t = sigmoid(\\tilde r^t)\n",
        "        \\tilde h^t = U_h x^t + W_h(h^{t-1} \\odot r^t) + b_h\n",
        "        h^t = (1 - z^t) \\odot h^{t-1} + z^t \\odot erf(\\tilde h^t)\n",
        "        \n",
        "    where\n",
        "    \n",
        "        h^t is state at time t\n",
        "        x^t is input at time t\n",
        "        z^t is ``update gate``: 1 means do update/forget previous h^{t-1}\n",
        "                                0 means h^t = h^{t-1}\n",
        "        r^t is ``reset gate'':\n",
        "            the smaller, the easier to make proposed update not depend on h^{t-1}\n",
        "        U_z, U_r, U_h are weights converting input to hidden states\n",
        "        W_z, W_r, W_h are weights converting state to state\n",
        "        b_z, b_r, b_h are biases    \n",
        "        sigmoid(x) = (1 + erf(x)) / 2\n",
        "        \n",
        "    We use erf-derived activations so that we can compute\n",
        "    the infinite-width GP kernel tractably.\n",
        "    Note that we assume the initial state h^0 is 0.\n",
        "\n",
        "    Below `d` is the dimension of the hidden state.\n",
        "    Inputs:\n",
        "        ingram: gram matrix of input tokens (divided by their dimension)\n",
        "        varUz: each element of U_z has variance `varUz`/d\n",
        "        varUr: each element of U_r has variance `varUr`/d\n",
        "        varUh: each element of U_h has variance `varUh`/d\n",
        "        varWz: each element of W_z has variance `varWz`/d\n",
        "        varWr: each element of W_r has variance `varWr`/d\n",
        "        varWh: each element of W_h has variance `varWh`/d\n",
        "        varbz: each element of b_z has variance `varbz`\n",
        "        varbr: each element of b_r has variance `varbr`\n",
        "        varbh: each element of b_h has variance `varbh`\n",
        "        mubz: each element of b_z has mean `mubz`\n",
        "        mubr: each element of b_r has mean `mubr`\n",
        "        mubh: each element of b_h has mean `mubh`\n",
        "    Outputs:\n",
        "        a dictionary with the following keys, which are associated to functions\n",
        "        which are lazily evaluated:\n",
        "        \n",
        "        covhtht: covhtht(t, s) = covariance(\\tilde h^t, \\tilde h^s)\n",
        "        covztzt: covztzt(t, s) = covariance(\\tilde z^t, \\tilde z^s)\n",
        "        covrtrt: covrtrt(t, s) = covariance(\\tilde r^t, \\tilde r^s)\n",
        "        Ess: Ess(t, s) = E erf(\\tilde h^t) erf(\\tilde h^s)\n",
        "        Ezwzw: Ezwzw(a, t, b, s) = E zweight(a, t) zweight(b, s)\n",
        "                where zweight(a, t) = z^a (1 - z^(a + 1)) ... (1 - z^t)\n",
        "        Ehh: Ehh(t, s) = E h^t h^s\n",
        "        Err: Err(t, s) = E r^t r^s\n",
        "        \n",
        "        Here, for two vectors of dimension m, let\n",
        "            \n",
        "            covariance(u, v) = u^T v / m\n",
        "\n",
        "        The returned dictionary also contains dictionaries which hold the memoized values\n",
        "        of the above functions. Their keys are the same but prefixed with `_`:\n",
        "        \n",
        "        _covhtht\n",
        "        _covztzt\n",
        "        _covrtrt\n",
        "        _Ess\n",
        "        _Ezwzw\n",
        "        _Ehh\n",
        "        _Err\n",
        "        \n",
        "    '''\n",
        "    # covhtht(t, s) = covariance(\\tilde h^t, \\tilde h^s)\n",
        "    _covhtht = {}\n",
        "    def covhtht(t, s):\n",
        "        if (t, s) in _covhtht:\n",
        "            return _covhtht[(t, s)]\n",
        "        if t < s:\n",
        "            return covhtht(s, t)\n",
        "        # covhtht(1, 1) inolves the first token, ingram[0, 0]\n",
        "        _covhtht[(t, s)] = varUh * ingram[t-1, s-1] + \\\n",
        "            varWh * Ehh(t-1, s-1) * Err(t, s) + varbh\n",
        "        return _covhtht[(t, s)]\n",
        "    # Ess(t, s) = E erf(\\tilde h^t) erf(\\tilde h^s)\n",
        "    _Ess = {}\n",
        "    def Ess(t, s):\n",
        "        if (t, s) in _Ess:\n",
        "            return _Ess[(t, s)]\n",
        "        if t < s:\n",
        "            return Ess(s, t)\n",
        "        elif t == s:\n",
        "            _Ess[(t, s)] = Eerf2(mubh, covhtht(t, t))\n",
        "            return _Ess[(t, s)]\n",
        "        else:\n",
        "            cov = [[covhtht(t, t), covhtht(t, s)],\n",
        "                  [covhtht(t, s), covhtht(s, s)]]\n",
        "            _Ess[(t, s)] = Eerf2([mubh, mubh], cov)\n",
        "            return _Ess[(t, s)]\n",
        "    # Ezwzw(a, t, b, s) = E zweight(a, t) zweight(b, s)\n",
        "    #     where zweight(a, t) = z^a (1 - z^(a + 1)) ... (1 - z^t)\n",
        "    _Ezwzw = {}\n",
        "    def Ezwzw(a, t, b, s):\n",
        "        if (a, t, b, s) in _Ezwzw:\n",
        "            return _Ezwzw[(a, t, b, s)]\n",
        "        if t < s:\n",
        "            return Ezwzw(b, s, a, t)\n",
        "        min_ = min(a, b)\n",
        "        max_ = max(t, s)\n",
        "        def getidx(i):\n",
        "            return i - min_\n",
        "        cov = [[covztzt(i, j) for i in range(min_, max_+1)]\n",
        "              for j in range(min_, max_+1)]\n",
        "        signs1 = np.zeros([max_ - min_ + 1])\n",
        "        signs1[getidx(a)] = 1\n",
        "        signs1[getidx(a)+1:getidx(t)+1] = -1\n",
        "        signs2 = np.zeros([max_ - min_ + 1])\n",
        "        signs2[getidx(b)] = 1\n",
        "        signs2[getidx(b)+1:getidx(s)+1] = -1\n",
        "        _Ezwzw[(a, t, b, s)] = Esigmoid2prod(signs1, signs2,\n",
        "                                 np.zeros([max_ - min_ + 1]) + mubz,\n",
        "                                 cov)\n",
        "        return _Ezwzw[(a, t, b, s)]\n",
        "    # Ehh(t, s) = E h^t h^s\n",
        "    _Ehh = {}\n",
        "    def Ehh(t, s):\n",
        "        if (t, s) in _Ehh:\n",
        "            return _Ehh[(t, s)]\n",
        "        if t == 0 or s == 0:\n",
        "            return 0\n",
        "        elif t < s:\n",
        "            return Ehh(s, t)\n",
        "        else:\n",
        "            _Ehh[(t, s)] = sum([\n",
        "                    Ezwzw(a, t, b, s) * Ess(a, b)\n",
        "                    for a in range(1, t+1)\n",
        "                    for b in range(1, s+1)\n",
        "            ])\n",
        "            return _Ehh[(t, s)]\n",
        "    # covztzt(t, s) = covariance(\\tilde z^t, \\tilde z^s)\n",
        "    _covztzt = {}\n",
        "    def covztzt(t, s):\n",
        "        if (t, s) in _covztzt:\n",
        "            return _covztzt[(t, s)]\n",
        "        if t < s:\n",
        "            return covztzt(s, t)\n",
        "        # covztzt(1, 1) inolves the first token, ingram[0, 0]\n",
        "        _covztzt[(t, s)] = varUz * ingram[t-1, s-1] \\\n",
        "                + varWz * Ehh(t-1, s-1) + varbz\n",
        "        return _covztzt[(t, s)]\n",
        "    # covrtrt(t, s) = covariance(\\tilde r^t, \\tilde r^s)\n",
        "    _covrtrt = {}\n",
        "    def covrtrt(t, s):\n",
        "        if (t, s) in _covrtrt:\n",
        "            return _covrtrt[(t, s)]\n",
        "        if t < s:\n",
        "            return covrtrt(s, t)\n",
        "        # covrtrt(1, 1) inolves the first token, ingram[0, 0]\n",
        "        _covrtrt[(t, s)] = varUr * ingram[t-1, s-1] \\\n",
        "                + varWr * Ehh(t-1, s-1) + varbr\n",
        "        return _covrtrt[(t, s)]\n",
        "    # Err(t, s) = E r^t r^s\n",
        "    _Err = {}\n",
        "    def Err(t, s):\n",
        "        if (t, s) in _Err:\n",
        "            return _Err[(t, s)]\n",
        "        if t < s:\n",
        "            return Err(s, t)\n",
        "        elif t == s:\n",
        "            _Err[(t, s)] = Esigmoid2prod([1], [1], [mubr], [covrtrt(t, t)])\n",
        "            return _Err[(t, s)]\n",
        "        else:\n",
        "            cov = [[covrtrt(i, j) for i in [t, s]]\n",
        "                  for j in [t, s]]\n",
        "            _Err[(t, s)] = Esigmoidprod([1, 1], [mubr, mubr], cov)\n",
        "            return _Err[(t, s)]\n",
        "    return dict(covhtht=covhtht, Ess=Ess, Ezwzw=Ezwzw,\n",
        "               Ehh=Ehh, covztzt=covztzt, covrtrt=covrtrt,\n",
        "               Err=Err,\n",
        "               _covhtht=_covhtht, _Ess=_Ess, _Ezwzw=_Ezwzw,\n",
        "               _Ehh=_Ehh, _covztzt=_covztzt, _covrtrt=_covrtrt,\n",
        "               _Err=_Err)\n",
        "\n",
        "def thgru2(in1covs, in2covs, ingramx, \n",
        "            varUz=1, varUr=1, varUh=1,\n",
        "            varWz=1, varWr=1, varWh=1,\n",
        "            varbz=1, varbr=1, varbh=1,\n",
        "            mubz=0, mubr=0, mubh=0):\n",
        "    r'''Same as `thgru` but over 2 sequences.\n",
        "\n",
        "    For two vectors of dimension d, let\n",
        "        \n",
        "        covariance(u, v) = u^T v / d\n",
        "\n",
        "    Inputs:\n",
        "        `in1covs`: dict returned by `thgru` applied to 1st sequence\n",
        "        `in2covs`: dict returned by `thgru` applied to 2nd sequence\n",
        "        `ingramx`: the covariance btw the 1st and 2nd sequence\n",
        "            ingramx[i, j] = covariance(seq1[i], seq2[j])\n",
        "\n",
        "    Outputs:\n",
        "        a dictionary with the following keys, which are associated to functions\n",
        "        which are lazily evaluated:\n",
        "        \n",
        "        covhtht: covhtht(t, s) = covariance(\\tilde h1^t, \\tilde h2^s)\n",
        "        covztzt: covztzt(t, s) = covariance(\\tilde z1^t, \\tilde z2^s)\n",
        "        covrtrt: covrtrt(t, s) = covariance(\\tilde r1^t, \\tilde r2^s)\n",
        "        Ess: Ess(t, s) = E erf(\\tilde h1^t) erf(\\tilde h2^s)\n",
        "        Ezwzw: Ezwzw(a, t, b, s) = E zweight1(a, t) zweight2(b, s)\n",
        "                where zweight1(a, t) = z1^a (1 - z1^(a + 1)) ... (1 - z1^t)\n",
        "                and zweight2(a, t) = z2^a (1 - z2^(a + 1)) ... (1 - z2^t)\n",
        "        Ehh: Ehh(t, s) = E h1^t h2^s\n",
        "        Err: Err(t, s) = E r1^t r2^s\n",
        "\n",
        "        Here ?1 and ?2 refer to the vectors obtained from the 1st or the 2nd sequence\n",
        "        \n",
        "        the dictionary also contains dictionaries which hold the memoized values\n",
        "        of the above functions. Their keys are the same but prefixed with `_`:\n",
        "        \n",
        "        _covhtht\n",
        "        _covztzt\n",
        "        _covrtrt\n",
        "        _Ess\n",
        "        _Ezwzw\n",
        "        _Ehh\n",
        "        _Err\n",
        "\n",
        "    '''\n",
        "    # covhtht(t, s) = covariance(\\tilde h1^t, \\tilde h2^s)\n",
        "    _covhtht = {}\n",
        "    def covhtht(t, s):\n",
        "        if (t, s) in _covhtht:\n",
        "            return _covhtht[(t, s)]\n",
        "        # covhtht(1, 1) inolves the first token, ingram[0, 0]\n",
        "        _covhtht[(t, s)] = varUh * ingramx[t-1, s-1] + \\\n",
        "            varWh * Ehh(t-1, s-1) * Err(t, s) + varbh\n",
        "        return _covhtht[(t, s)]\n",
        "    # Ess(t, s) = E erf(\\tilde h1^t) erf(\\tilde h2^s)\n",
        "    _Ess = {}\n",
        "    def Ess(t, s):\n",
        "        if (t, s) in _Ess:\n",
        "            return _Ess[(t, s)]\n",
        "        else:\n",
        "            cov = [[in1covs['covhtht'](t, t), covhtht(t, s)],\n",
        "                  [covhtht(t, s), in2covs['covhtht'](s, s)]]\n",
        "            _Ess[(t, s)] = Eerf2([mubh, mubh], cov)\n",
        "            return _Ess[(t, s)]\n",
        "    # Ezwzw(a, t, b, s) = E zweight1(a, t) zweight2(b, s)\n",
        "    #     where zweight1(a, t) = z1^a (1 - z1^(a + 1)) ... (1 - z1^t)\n",
        "    #           zweight2(a, t) = z2^a (1 - z2^(a + 1)) ... (1 - z2^t)\n",
        "    _Ezwzw = {}\n",
        "    def Ezwzw(a, t, b, s):\n",
        "        if (a, t, b, s) in _Ezwzw:\n",
        "            return _Ezwzw[(a, t, b, s)]\n",
        "        min_ = min(a, b)\n",
        "        max_ = max(t, s)\n",
        "        def getidx(i):\n",
        "            return i - min_\n",
        "        cov1 = npa([[in1covs['covztzt'](i, j) for i in range(a, t+1)]\n",
        "                for j in range(a, t+1)])\n",
        "        cov2 = npa([[in2covs['covztzt'](i, j) for i in range(b, s+1)]\n",
        "                for j in range(b, s+1)])\n",
        "        covx = npa([[covztzt(i, j) for j in range(b, s+1)]\n",
        "              for i in range(a, t+1)])\n",
        "        cov = np.block(\n",
        "            [[cov1, covx],\n",
        "             [covx.T, cov2]])\n",
        "        signs1 = [1] + [-1] * (t - a)\n",
        "        signs2 = [1] + [-1] * (s - b)\n",
        "        _Ezwzw[(a, t, b, s)] = Esigmoidprod(signs1 + signs2,\n",
        "                                 np.zeros([cov.shape[0]]) + mubz,\n",
        "                                 cov)\n",
        "        return _Ezwzw[(a, t, b, s)]\n",
        "    # Ehh(t, s) = E h1^t h2^s\n",
        "    _Ehh = {}\n",
        "    def Ehh(t, s):\n",
        "        if (t, s) in _Ehh:\n",
        "            return _Ehh[(t, s)]\n",
        "        if t == 0 or s == 0:\n",
        "            return 0\n",
        "        else:\n",
        "            _Ehh[(t, s)] = sum([\n",
        "                    Ezwzw(a, t, b, s) * Ess(a, b)\n",
        "                    for a in range(1, t+1)\n",
        "                    for b in range(1, s+1)\n",
        "            ])\n",
        "            return _Ehh[(t, s)]\n",
        "    # covztzt(t, s) = covariance(\\tilde z1^t, \\tilde z2^s)\n",
        "    _covztzt = {}\n",
        "    def covztzt(t, s):\n",
        "        if (t, s) in _covztzt:\n",
        "            return _covztzt[(t, s)]\n",
        "        # covztzt(1, 1) inolves the first token, ingram[0, 0]\n",
        "        _covztzt[(t, s)] = varUz * ingramx[t-1, s-1] \\\n",
        "                + varWz * Ehh(t-1, s-1) + varbz\n",
        "        return _covztzt[(t, s)]\n",
        "    # covrtrt(t, s) = covariance(\\tilde r1^t, \\tilde r2^s)\n",
        "    _covrtrt = {}\n",
        "    def covrtrt(t, s):\n",
        "        if (t, s) in _covrtrt:\n",
        "            return _covrtrt[(t, s)]\n",
        "        # covrtrt(1, 1) inolves the first token, ingram[0, 0]\n",
        "        _covrtrt[(t, s)] = varUr * ingramx[t-1, s-1] \\\n",
        "                + varWr * Ehh(t-1, s-1) + varbr\n",
        "        return _covrtrt[(t, s)]\n",
        "    # Err(t, s) = E r1^t r2^s\n",
        "    _Err = {}\n",
        "    def Err(t, s):\n",
        "        if (t, s) in _Err:\n",
        "            return _Err[(t, s)]\n",
        "        else:\n",
        "            cov = [[in1covs['covrtrt'](t, t), covrtrt(t, s)],\n",
        "                  [covrtrt(t, s), in2covs['covrtrt'](s, s)]]\n",
        "            _Err[(t, s)] = Esigmoidprod([1, 1], [mubr, mubr], cov)\n",
        "            return _Err[(t, s)]\n",
        "    return dict(covhtht=covhtht, Ess=Ess, Ezwzw=Ezwzw,\n",
        "               Ehh=Ehh, covztzt=covztzt, covrtrt=covrtrt,\n",
        "               Err=Err,\n",
        "               _covhtht=_covhtht, _Ess=_Ess, _Ezwzw=_Ezwzw,\n",
        "               _Ehh=_Ehh, _covztzt=_covztzt, _covrtrt=_covrtrt,\n",
        "               _Err=_Err)"
      ],
      "execution_count": 0,
      "outputs": []
    },
    {
      "cell_type": "markdown",
      "metadata": {
        "id": "ancIdo61Wmnw",
        "colab_type": "text"
      },
      "source": [
        "# Computing the Infinite-Width GRU Kernel"
      ]
    },
    {
      "cell_type": "markdown",
      "metadata": {
        "id": "Qc0DS6bbWmnw",
        "colab_type": "text"
      },
      "source": [
        "We first compute the covariance between the output of a randomly initialized, infinite-width GRU that has been run on the two sentences.\n",
        "\n",
        "`gruGloVe1` contains a collection of functions that each computes the covariance between quantities generated by the GRU over the course of running over the first sentence.\n",
        "For example, `gruGloVe1['Ehh'](i, j)` is the normalized inner product between the GRU embedding of the first sentence up to $i$th word and first sentence up to $j$th word.\n",
        "Its evaluation needs the values `gruGloVe1['Ehh'](ii, jj)` for $(ii, jj) \\le (i, j), (ii, jj) \\ne (i, j)$, which is cached after the being computed for the first time.\n",
        "See documentation for other examples of functions contained in the output of `thgru`.\n",
        "\n",
        "Likewise, `gruGloVex['Ehh']` gives the normalized inner product between the GRU embeddings of the first and the second sentence."
      ]
    },
    {
      "cell_type": "code",
      "metadata": {
        "ExecuteTime": {
          "end_time": "2020-01-02T11:57:23.178043Z",
          "start_time": "2020-01-02T11:57:23.158046Z"
        },
        "id": "P5s7tdgvWmnx",
        "colab_type": "code",
        "colab": {}
      },
      "source": [
        "gruGloVe1 = thgru(exampleGloveCov[:7, :7])\n",
        "gruGloVe2 = thgru(exampleGloveCov[7:, 7:])\n",
        "gruGloVex = thgru2(gruGloVe1, gruGloVe2, exampleGloveCov[:7, 7:])"
      ],
      "execution_count": 0,
      "outputs": []
    },
    {
      "cell_type": "markdown",
      "metadata": {
        "id": "gH2vlaKhWmn2",
        "colab_type": "text"
      },
      "source": [
        "We store the normalized inner products in numpy arrays `ker1`, `ker2`, `kerx`.\n",
        "`ker1` contains the autocovariance of the GRU embeddings of the first sentence; `ker2` contains those of the second sentence.\n",
        "`kerx` contains the covariance of the GRU embeddings of the first and the second sentence.\n",
        "\n",
        "The big matrix `ker` arranges `ker1`, `ker2`, `kerx` in block form."
      ]
    },
    {
      "cell_type": "markdown",
      "metadata": {
        "id": "IhcKGyVMWmn3",
        "colab_type": "text"
      },
      "source": [
        "Note: This cell may take up to a minute to run."
      ]
    },
    {
      "cell_type": "code",
      "metadata": {
        "ExecuteTime": {
          "end_time": "2020-01-02T11:59:39.057805Z",
          "start_time": "2020-01-02T11:57:23.182045Z"
        },
        "id": "MA3FbAVfWmn3",
        "colab_type": "code",
        "colab": {}
      },
      "source": [
        "ker1 = npa([[gruGloVe1['Ehh'](i, j) for i in range(1, 8)]\n",
        "           for j in range(1, 8)])\n",
        "ker2 = npa([[gruGloVe2['Ehh'](i, j) for i in range(1, 10)]\n",
        "           for j in range(1, 10)])\n",
        "kerx = npa([[gruGloVex['Ehh'](i, j) for j in range(1, 10)]\n",
        "           for i in range(1, 8)])\n",
        "ker = np.block(\n",
        "    [[ker1, kerx],\n",
        "     [kerx.T, ker2]]\n",
        ")"
      ],
      "execution_count": 0,
      "outputs": []
    },
    {
      "cell_type": "markdown",
      "metadata": {
        "id": "5NXSk3u6Wmn6",
        "colab_type": "text"
      },
      "source": [
        "This is what `ker` looks like.\n",
        "Note the block structure, which corresponds to the two sentences."
      ]
    },
    {
      "cell_type": "code",
      "metadata": {
        "ExecuteTime": {
          "end_time": "2020-01-02T11:59:39.855694Z",
          "start_time": "2020-01-02T11:59:39.058694Z"
        },
        "id": "ASyMGYibWmn8",
        "colab_type": "code",
        "colab": {
          "base_uri": "https://localhost:8080/",
          "height": 547
        },
        "outputId": "f16c2251-19b8-4d7d-d5d5-b326f08f1c16"
      },
      "source": [
        "from utils import getCor, colorbar\n",
        "\n",
        "plt.figure(figsize=(8, 8))\n",
        "\n",
        "plt.subplot(221)\n",
        "ax = plt.gca()\n",
        "im_thcov = plt.imshow(ker, cmap='PuBu_r')\n",
        "span = np.linspace(-.5, 15.5)\n",
        "plt.plot(span, [6.5]*len(span), 'r')\n",
        "plt.plot([6.5]*len(span), span, 'r')\n",
        "plt.yticks(np.arange(16), sent1+sent2)\n",
        "plt.xticks([])\n",
        "plt.title('Transformer covariances (theory)')\n",
        "plt.ylabel('sent2                       sent1')\n",
        "plt.grid()\n",
        "colorbar(im_thcov)\n",
        "\n",
        "plt.subplot(222)\n",
        "ax = plt.gca()\n",
        "im_thcor = plt.imshow(getCor(ker), cmap='viridis')\n",
        "span = np.linspace(-.5, 15.5)\n",
        "plt.plot(span, [6.5]*len(span), 'r')\n",
        "plt.plot([6.5]*len(span), span, 'r')\n",
        "plt.yticks([])\n",
        "plt.xticks([])\n",
        "plt.title('Transformer correlations (theory)')\n",
        "plt.grid()\n",
        "colorbar(im_thcor)\n",
        "\n",
        "\n",
        "plt.subplot(223)\n",
        "ax = plt.gca()\n",
        "im_glove = plt.imshow(exampleGloveCov, cmap='PuBu_r')\n",
        "span = np.linspace(-.5, 15.5)\n",
        "plt.plot(span, [6.5]*len(span), 'r')\n",
        "plt.plot([6.5]*len(span), span, 'r')\n",
        "plt.yticks(np.arange(16), sent1+sent2)\n",
        "plt.xticks(np.arange(16), sent1+sent2, rotation=90)\n",
        "plt.title('GloVe covariances')\n",
        "plt.xlabel('sent1                       sent2')\n",
        "plt.ylabel('sent2                       sent1')\n",
        "plt.grid()\n",
        "colorbar(im_glove)\n",
        "\n",
        "plt.subplot(224)\n",
        "ax = plt.gca()\n",
        "im_glovecor = plt.imshow(getCor(exampleGloveCov), cmap='viridis')\n",
        "span = np.linspace(-.5, 15.5)\n",
        "plt.plot(span, [6.5]*len(span), 'r')\n",
        "plt.plot([6.5]*len(span), span, 'r')\n",
        "plt.yticks([])\n",
        "plt.xticks(np.arange(16), sent1+sent2, rotation=90)\n",
        "plt.title('GloVe correlations')\n",
        "plt.xlabel('sent1                       sent2')\n",
        "plt.grid()\n",
        "colorbar(im_glovecor)\n",
        "\n",
        "plt.tight_layout()"
      ],
      "execution_count": 22,
      "outputs": [
        {
          "output_type": "display_data",
          "data": {
            "image/png": "[encoded data removed]",
            "text/plain": [
              "<Figure size 576x576 with 8 Axes>"
            ]
          },
          "metadata": {
            "tags": []
          }
        }
      ]
    },
    {
      "cell_type": "code",
      "metadata": {
        "ExecuteTime": {
          "end_time": "2020-01-02T11:59:39.862695Z",
          "start_time": "2020-01-02T11:59:39.856694Z"
        },
        "id": "Ks4Go2rGWmoA",
        "colab_type": "code",
        "colab": {}
      },
      "source": [
        "with open('GRU.kernel', 'wb') as f:\n",
        "    np.save(f, ker)"
      ],
      "execution_count": 0,
      "outputs": []
    },
    {
      "cell_type": "markdown",
      "metadata": {
        "id": "yTuDA9JRWmoD",
        "colab_type": "text"
      },
      "source": [
        "# Simulation: Large (but Finite) Width Kernel of GRU Embeddings"
      ]
    },
    {
      "cell_type": "markdown",
      "metadata": {
        "id": "N963RGnRWmoE",
        "colab_type": "text"
      },
      "source": [
        "We randomly initialize 100 GRUs for each width among $[2^5, 2^6, \\ldots, 2^{13}]$ and run them on the two sentences above.\n",
        "We calculate the empirical Gram matrix of the GRU embeddings as well as its Frobenius distance to the infinite-width theoretical kernel `ker`."
      ]
    },
    {
      "cell_type": "code",
      "metadata": {
        "ExecuteTime": {
          "end_time": "2020-01-02T12:02:29.932820Z",
          "start_time": "2020-01-02T11:59:39.864733Z"
        },
        "id": "eT18gkPnWmoF",
        "colab_type": "code",
        "colab": {}
      },
      "source": [
        "widths = [2**i for i in range(5, 13)]\n",
        "frobs = []\n",
        "for d_h in widths:\n",
        "    for _ in range(100):\n",
        "        glovesimx = simgru2(th.from_numpy(exampleGloveVecs[:7]),\n",
        "                           th.from_numpy(exampleGloveVecs[7:]),\n",
        "                           d_h,\n",
        "                  nonlin=Erf, sigmoid=ErfSigmoid,\n",
        "                 wt_tie=True, bias=True)\n",
        "        diff = glovesimx['hcov'] - ker\n",
        "        frobs.append({\n",
        "            \"absfrob\": np.linalg.norm(diff)**2,\n",
        "            \"relfrob\": (np.linalg.norm(diff) / np.linalg.norm(ker))**2,\n",
        "            \"width\": d_h\n",
        "        })"
      ],
      "execution_count": 0,
      "outputs": []
    },
    {
      "cell_type": "markdown",
      "metadata": {
        "id": "X42xE8F4WmoK",
        "colab_type": "text"
      },
      "source": [
        "We store the results in a dataframe `frob_df`."
      ]
    },
    {
      "cell_type": "code",
      "metadata": {
        "ExecuteTime": {
          "end_time": "2020-01-02T12:02:29.943820Z",
          "start_time": "2020-01-02T12:02:29.934821Z"
        },
        "id": "Iu4nu6jGWmoN",
        "colab_type": "code",
        "colab": {}
      },
      "source": [
        "frob_df = pd.DataFrame(frobs)"
      ],
      "execution_count": 0,
      "outputs": []
    },
    {
      "cell_type": "code",
      "metadata": {
        "ExecuteTime": {
          "end_time": "2020-01-02T12:02:29.994819Z",
          "start_time": "2020-01-02T12:02:29.945820Z"
        },
        "id": "eEZo1RY4WmoR",
        "colab_type": "code",
        "colab": {}
      },
      "source": [
        "frob_df.to_pickle('GRU.df')"
      ],
      "execution_count": 0,
      "outputs": []
    },
    {
      "cell_type": "markdown",
      "metadata": {
        "id": "zNoDS9KwWmoU",
        "colab_type": "text"
      },
      "source": [
        "The deviation from infinite-width theory drops with width, as expected."
      ]
    },
    {
      "cell_type": "code",
      "metadata": {
        "ExecuteTime": {
          "end_time": "2020-01-02T12:02:30.688824Z",
          "start_time": "2020-01-02T12:02:29.996818Z"
        },
        "id": "ZZF5IMhmWmoW",
        "colab_type": "code",
        "colab": {
          "base_uri": "https://localhost:8080/",
          "height": 301
        },
        "outputId": "c45c512e-8a1e-45bc-a878-d8de295de8ad"
      },
      "source": [
        "sns.boxplot(x='width', y='relfrob', data=frob_df)\n",
        "plt.semilogy()\n",
        "# plt.legend()\n",
        "plt.title('Deviation From Infinite-width Theory')\n",
        "_ = plt.ylabel(u'Relative Squared Frob. Norm\\n $\\|K_{\\infty} - K_{width}\\|_F^2/\\|K_{\\infty}\\|_F^2$')"
      ],
      "execution_count": 27,
      "outputs": [
        {
          "output_type": "display_data",
          "data": {
            "image/png": "[encoded data removed]",
            "text/plain": [
              "<Figure size 432x288 with 1 Axes>"
            ]
          },
          "metadata": {
            "tags": []
          }
        }
      ]
    },
    {
      "cell_type": "markdown",
      "metadata": {
        "id": "wvikkIVjWmoa",
        "colab_type": "text"
      },
      "source": [
        "The deviation from theory in *squared* Frobenius norm scales like $\\frac{1}{width}$ (so, in Frobenius norm, the deviation scales like $width^{-1/2}$)."
      ]
    },
    {
      "cell_type": "code",
      "metadata": {
        "ExecuteTime": {
          "end_time": "2020-01-02T12:02:31.151821Z",
          "start_time": "2020-01-02T12:02:30.689817Z"
        },
        "id": "N1nAyi2KWmoc",
        "colab_type": "code",
        "colab": {
          "base_uri": "https://localhost:8080/",
          "height": 311
        },
        "outputId": "984a6105-a545-4a84-ce54-59cdb8690ba5"
      },
      "source": [
        "frob_df.groupby('width', as_index=False).mean().plot.line(x='width', y='relfrob')\n",
        "plt.plot(widths, np.array(widths, dtype='float')**-1, '--', label=u'${width}^{-1}$')\n",
        "plt.ylabel(u'Mean Relative Squared Frob. Norm\\n $\\|K_{\\infty} - K_{width}\\|_F^2/\\|K_{\\infty}\\|_F^2$')\n",
        "plt.loglog()\n",
        "plt.legend()\n",
        "_ = plt.title(u'Deviation from Theory in (Frobenius norm)$^2$ drops like $width^{-1}$')"
      ],
      "execution_count": 28,
      "outputs": [
        {
          "output_type": "display_data",
          "data": {
            "image/png": "[encoded data removed]",
            "text/plain": [
              "<Figure size 432x288 with 1 Axes>"
            ]
          },
          "metadata": {
            "tags": []
          }
        }
      ]
    }
  ]
}